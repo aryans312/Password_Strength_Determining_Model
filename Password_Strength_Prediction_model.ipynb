{
 "cells": [
  {
   "cell_type": "code",
   "execution_count": 1196,
   "id": "f628f833-cc9b-491f-bb66-45bcf76ad6fc",
   "metadata": {},
   "outputs": [],
   "source": [
    "#Using NLP in it (Natural language processing)"
   ]
  },
  {
   "cell_type": "code",
   "execution_count": 1197,
   "id": "d23d3c2e-b274-488c-aaac-2211812352a4",
   "metadata": {},
   "outputs": [],
   "source": [
    "import pandas as pd\n",
    "import numpy as np\n",
    "import matplotlib.pyplot as plt\n",
    "import seaborn as sns\n",
    "import sqlite3 #(to read sqlite data)"
   ]
  },
  {
   "cell_type": "code",
   "execution_count": 1198,
   "id": "fea40c67-5a8f-4ff8-9637-8de263298fdc",
   "metadata": {},
   "outputs": [],
   "source": [
    "con = sqlite3.connect(\"password_data.sqlite\")"
   ]
  },
  {
   "cell_type": "code",
   "execution_count": 1199,
   "id": "c0db4a4e-c4c3-43c0-8768-a698f78c643e",
   "metadata": {},
   "outputs": [],
   "source": [
    "data= pd.read_sql_query(\"SELECT * FROM USERS\" ,  con)  #users is a table in password_data which can be checked from sqlite website"
   ]
  },
  {
   "cell_type": "code",
   "execution_count": 1200,
   "id": "db89b667-fa9a-4474-980f-c9a8d7e2d3ba",
   "metadata": {},
   "outputs": [
    {
     "data": {
      "text/plain": [
       "(100000, 3)"
      ]
     },
     "execution_count": 1200,
     "metadata": {},
     "output_type": "execute_result"
    }
   ],
   "source": [
    "data.shape"
   ]
  },
  {
   "cell_type": "code",
   "execution_count": 1201,
   "id": "76e04d75-b87c-4aad-80e8-c8d17df1ea4e",
   "metadata": {},
   "outputs": [
    {
     "data": {
      "text/html": [
       "<div>\n",
       "<style scoped>\n",
       "    .dataframe tbody tr th:only-of-type {\n",
       "        vertical-align: middle;\n",
       "    }\n",
       "\n",
       "    .dataframe tbody tr th {\n",
       "        vertical-align: top;\n",
       "    }\n",
       "\n",
       "    .dataframe thead th {\n",
       "        text-align: right;\n",
       "    }\n",
       "</style>\n",
       "<table border=\"1\" class=\"dataframe\">\n",
       "  <thead>\n",
       "    <tr style=\"text-align: right;\">\n",
       "      <th></th>\n",
       "      <th>index</th>\n",
       "      <th>password</th>\n",
       "      <th>strength</th>\n",
       "    </tr>\n",
       "  </thead>\n",
       "  <tbody>\n",
       "    <tr>\n",
       "      <th>0</th>\n",
       "      <td>0</td>\n",
       "      <td>zxe870819</td>\n",
       "      <td>1</td>\n",
       "    </tr>\n",
       "    <tr>\n",
       "      <th>1</th>\n",
       "      <td>1</td>\n",
       "      <td>xw46454nr23l</td>\n",
       "      <td>1</td>\n",
       "    </tr>\n",
       "    <tr>\n",
       "      <th>2</th>\n",
       "      <td>2</td>\n",
       "      <td>soporte13</td>\n",
       "      <td>1</td>\n",
       "    </tr>\n",
       "    <tr>\n",
       "      <th>3</th>\n",
       "      <td>3</td>\n",
       "      <td>accounts6000webhost.com</td>\n",
       "      <td>2</td>\n",
       "    </tr>\n",
       "    <tr>\n",
       "      <th>4</th>\n",
       "      <td>4</td>\n",
       "      <td>c443balg</td>\n",
       "      <td>1</td>\n",
       "    </tr>\n",
       "    <tr>\n",
       "      <th>...</th>\n",
       "      <td>...</td>\n",
       "      <td>...</td>\n",
       "      <td>...</td>\n",
       "    </tr>\n",
       "    <tr>\n",
       "      <th>99995</th>\n",
       "      <td>99995</td>\n",
       "      <td>obejofi215</td>\n",
       "      <td>1</td>\n",
       "    </tr>\n",
       "    <tr>\n",
       "      <th>99996</th>\n",
       "      <td>99996</td>\n",
       "      <td>fmiopvxb64</td>\n",
       "      <td>1</td>\n",
       "    </tr>\n",
       "    <tr>\n",
       "      <th>99997</th>\n",
       "      <td>99997</td>\n",
       "      <td>czvrbun38</td>\n",
       "      <td>1</td>\n",
       "    </tr>\n",
       "    <tr>\n",
       "      <th>99998</th>\n",
       "      <td>99998</td>\n",
       "      <td>mymyxe430</td>\n",
       "      <td>1</td>\n",
       "    </tr>\n",
       "    <tr>\n",
       "      <th>99999</th>\n",
       "      <td>99999</td>\n",
       "      <td>glqjhkxb467</td>\n",
       "      <td>1</td>\n",
       "    </tr>\n",
       "  </tbody>\n",
       "</table>\n",
       "<p>100000 rows × 3 columns</p>\n",
       "</div>"
      ],
      "text/plain": [
       "       index                 password  strength\n",
       "0          0                zxe870819         1\n",
       "1          1             xw46454nr23l         1\n",
       "2          2                soporte13         1\n",
       "3          3  accounts6000webhost.com         2\n",
       "4          4                 c443balg         1\n",
       "...      ...                      ...       ...\n",
       "99995  99995               obejofi215         1\n",
       "99996  99996               fmiopvxb64         1\n",
       "99997  99997                czvrbun38         1\n",
       "99998  99998                mymyxe430         1\n",
       "99999  99999              glqjhkxb467         1\n",
       "\n",
       "[100000 rows x 3 columns]"
      ]
     },
     "execution_count": 1201,
     "metadata": {},
     "output_type": "execute_result"
    }
   ],
   "source": [
    "data"
   ]
  },
  {
   "cell_type": "code",
   "execution_count": 1202,
   "id": "d6beeaaf-2a76-472b-9f72-91938235965e",
   "metadata": {},
   "outputs": [],
   "source": [
    "#Strength 0= weak, 1 = medium , 2= strong"
   ]
  },
  {
   "cell_type": "code",
   "execution_count": 1203,
   "id": "c5388845-38ab-4d69-813e-a9c7cc25e3f2",
   "metadata": {},
   "outputs": [],
   "source": [
    "#Data cleaning-- to find missing, irrelevent and repeating columns"
   ]
  },
  {
   "cell_type": "code",
   "execution_count": 1204,
   "id": "50f98a53-2302-4468-888a-486609209364",
   "metadata": {},
   "outputs": [
    {
     "data": {
      "text/plain": [
       "Index(['index', 'password', 'strength'], dtype='object')"
      ]
     },
     "execution_count": 1204,
     "metadata": {},
     "output_type": "execute_result"
    }
   ],
   "source": [
    "data.columns"
   ]
  },
  {
   "cell_type": "code",
   "execution_count": 1205,
   "id": "6948af96-b093-4947-b721-42460f98c9a4",
   "metadata": {},
   "outputs": [],
   "source": [
    "#Index is useless as we already have index\n",
    "data.drop([\"index\"], axis=1, inplace= True)"
   ]
  },
  {
   "cell_type": "code",
   "execution_count": 1206,
   "id": "46b01a4d-babb-459c-b1fa-3814314edc91",
   "metadata": {},
   "outputs": [
    {
     "data": {
      "text/html": [
       "<div>\n",
       "<style scoped>\n",
       "    .dataframe tbody tr th:only-of-type {\n",
       "        vertical-align: middle;\n",
       "    }\n",
       "\n",
       "    .dataframe tbody tr th {\n",
       "        vertical-align: top;\n",
       "    }\n",
       "\n",
       "    .dataframe thead th {\n",
       "        text-align: right;\n",
       "    }\n",
       "</style>\n",
       "<table border=\"1\" class=\"dataframe\">\n",
       "  <thead>\n",
       "    <tr style=\"text-align: right;\">\n",
       "      <th></th>\n",
       "      <th>password</th>\n",
       "      <th>strength</th>\n",
       "    </tr>\n",
       "  </thead>\n",
       "  <tbody>\n",
       "    <tr>\n",
       "      <th>0</th>\n",
       "      <td>zxe870819</td>\n",
       "      <td>1</td>\n",
       "    </tr>\n",
       "    <tr>\n",
       "      <th>1</th>\n",
       "      <td>xw46454nr23l</td>\n",
       "      <td>1</td>\n",
       "    </tr>\n",
       "  </tbody>\n",
       "</table>\n",
       "</div>"
      ],
      "text/plain": [
       "       password  strength\n",
       "0     zxe870819         1\n",
       "1  xw46454nr23l         1"
      ]
     },
     "execution_count": 1206,
     "metadata": {},
     "output_type": "execute_result"
    }
   ],
   "source": [
    "data.head(2)"
   ]
  },
  {
   "cell_type": "code",
   "execution_count": 1207,
   "id": "08b9f580-df5a-4f47-8782-cd3fd55990f2",
   "metadata": {},
   "outputs": [
    {
     "data": {
      "text/plain": [
       "0        False\n",
       "1        False\n",
       "2        False\n",
       "3        False\n",
       "4        False\n",
       "         ...  \n",
       "99995    False\n",
       "99996    False\n",
       "99997    False\n",
       "99998    False\n",
       "99999    False\n",
       "Length: 100000, dtype: bool"
      ]
     },
     "execution_count": 1207,
     "metadata": {},
     "output_type": "execute_result"
    }
   ],
   "source": [
    "data.duplicated() #To check duplicate values"
   ]
  },
  {
   "cell_type": "code",
   "execution_count": 1208,
   "id": "38a9f049-c5e1-48ef-9b58-10bd0f206253",
   "metadata": {},
   "outputs": [
    {
     "data": {
      "text/plain": [
       "0"
      ]
     },
     "execution_count": 1208,
     "metadata": {},
     "output_type": "execute_result"
    }
   ],
   "source": [
    "data.duplicated().sum()"
   ]
  },
  {
   "cell_type": "code",
   "execution_count": 1209,
   "id": "3f1a6aac-c537-4013-94d0-986d5e59d294",
   "metadata": {},
   "outputs": [
    {
     "data": {
      "text/plain": [
       "password    False\n",
       "strength    False\n",
       "dtype: bool"
      ]
     },
     "execution_count": 1209,
     "metadata": {},
     "output_type": "execute_result"
    }
   ],
   "source": [
    "data.isnull().any()"
   ]
  },
  {
   "cell_type": "code",
   "execution_count": 1210,
   "id": "590b9b0f-e306-4e55-bd88-3cd034798542",
   "metadata": {},
   "outputs": [
    {
     "data": {
      "text/plain": [
       "0"
      ]
     },
     "execution_count": 1210,
     "metadata": {},
     "output_type": "execute_result"
    }
   ],
   "source": [
    "data.isnull().any().sum()"
   ]
  },
  {
   "cell_type": "code",
   "execution_count": 1211,
   "id": "a551e283-b4d8-456a-bd71-ec3b1f5cd208",
   "metadata": {},
   "outputs": [
    {
     "data": {
      "text/plain": [
       "password    object\n",
       "strength     int64\n",
       "dtype: object"
      ]
     },
     "execution_count": 1211,
     "metadata": {},
     "output_type": "execute_result"
    }
   ],
   "source": [
    "data.dtypes"
   ]
  },
  {
   "cell_type": "code",
   "execution_count": 1212,
   "id": "66ec1eb4-0ad4-4489-83fb-91536a7ed647",
   "metadata": {},
   "outputs": [
    {
     "data": {
      "text/plain": [
       "array([1, 2, 0], dtype=int64)"
      ]
     },
     "execution_count": 1212,
     "metadata": {},
     "output_type": "execute_result"
    }
   ],
   "source": [
    "data[\"strength\"].unique()"
   ]
  },
  {
   "cell_type": "code",
   "execution_count": 1213,
   "id": "3ac6377c-b1e3-4176-8c64-63313383ef5e",
   "metadata": {},
   "outputs": [],
   "source": [
    "#NO irrelevent value i.e except 0,1,2"
   ]
  },
  {
   "cell_type": "code",
   "execution_count": 1214,
   "id": "174dca88-78ab-4fb9-8094-9d1a82221cb0",
   "metadata": {},
   "outputs": [
    {
     "data": {
      "text/plain": [
       "'\\nSemantic analysis=\\nHow many password textual holds only == \\n                                        i) Numeric\\n                                        ii) Upper case\\n                                        iii)Aplha numeric\\n                                        iv) title-case char\\n                                        v) some special char\\n                                        '"
      ]
     },
     "execution_count": 1214,
     "metadata": {},
     "output_type": "execute_result"
    }
   ],
   "source": [
    "#Performing Semantic analysis\n",
    "\"\"\"\n",
    "Semantic analysis=\n",
    "How many password textual holds only == \n",
    "                                        i) Numeric\n",
    "                                        ii) Upper case\n",
    "                                        iii)Aplha numeric\n",
    "                                        iv) title-case char\n",
    "                                        v) some special char\n",
    "                                        \"\"\""
   ]
  },
  {
   "cell_type": "code",
   "execution_count": 1215,
   "id": "1b534c3d-dd25-43bc-ad1c-d791e1b14457",
   "metadata": {},
   "outputs": [
    {
     "data": {
      "text/plain": [
       "0                      zxe870819\n",
       "1                   xw46454nr23l\n",
       "2                      soporte13\n",
       "3        accounts6000webhost.com\n",
       "4                       c443balg\n",
       "                  ...           \n",
       "99995                 obejofi215\n",
       "99996                 fmiopvxb64\n",
       "99997                  czvrbun38\n",
       "99998                  mymyxe430\n",
       "99999                glqjhkxb467\n",
       "Name: password, Length: 100000, dtype: object"
      ]
     },
     "execution_count": 1215,
     "metadata": {},
     "output_type": "execute_result"
    }
   ],
   "source": [
    "data[\"password\"]"
   ]
  },
  {
   "cell_type": "code",
   "execution_count": 1216,
   "id": "4de9900e-1f69-4e53-9be3-5cc233fa4dba",
   "metadata": {},
   "outputs": [
    {
     "data": {
      "text/plain": [
       "pandas.core.series.Series"
      ]
     },
     "execution_count": 1216,
     "metadata": {},
     "output_type": "execute_result"
    }
   ],
   "source": [
    "type(data[\"password\"])"
   ]
  },
  {
   "cell_type": "code",
   "execution_count": 1217,
   "id": "335a7f43-9098-4b4f-b9aa-935fe4543c41",
   "metadata": {},
   "outputs": [
    {
     "data": {
      "text/plain": [
       "str"
      ]
     },
     "execution_count": 1217,
     "metadata": {},
     "output_type": "execute_result"
    }
   ],
   "source": [
    "type(data[\"password\"][0])"
   ]
  },
  {
   "cell_type": "code",
   "execution_count": 1218,
   "id": "20cb7fc9-f787-4123-a461-0fb39967ba77",
   "metadata": {},
   "outputs": [],
   "source": [
    "#So we have values in the form of string"
   ]
  },
  {
   "cell_type": "code",
   "execution_count": 1219,
   "id": "e4d3ef51-7d26-497d-a7f8-ab649791309b",
   "metadata": {},
   "outputs": [
    {
     "data": {
      "text/plain": [
       "0        False\n",
       "1        False\n",
       "2        False\n",
       "3        False\n",
       "4        False\n",
       "         ...  \n",
       "99995    False\n",
       "99996    False\n",
       "99997    False\n",
       "99998    False\n",
       "99999    False\n",
       "Name: password, Length: 100000, dtype: bool"
      ]
     },
     "execution_count": 1219,
     "metadata": {},
     "output_type": "execute_result"
    }
   ],
   "source": [
    "data[\"password\"].str.isnumeric()   "
   ]
  },
  {
   "cell_type": "code",
   "execution_count": 1220,
   "id": "49332497-8136-43af-a298-50ad8c4a7b26",
   "metadata": {},
   "outputs": [
    {
     "data": {
      "text/plain": [
       "26"
      ]
     },
     "execution_count": 1220,
     "metadata": {},
     "output_type": "execute_result"
    }
   ],
   "source": [
    "data[\"password\"].str.isnumeric().sum()"
   ]
  },
  {
   "cell_type": "code",
   "execution_count": 1221,
   "id": "44609bce-aa0b-45ad-b879-a1ec1662262b",
   "metadata": {},
   "outputs": [
    {
     "data": {
      "text/plain": [
       "(26, 2)"
      ]
     },
     "execution_count": 1221,
     "metadata": {},
     "output_type": "execute_result"
    }
   ],
   "source": [
    "data[data[\"password\"].str.isnumeric()].shape"
   ]
  },
  {
   "cell_type": "code",
   "execution_count": 1222,
   "id": "263c8459-f5eb-49d6-832a-edda01e7fcf6",
   "metadata": {},
   "outputs": [],
   "source": [
    "#26 password contain only numeric"
   ]
  },
  {
   "cell_type": "code",
   "execution_count": 1223,
   "id": "3b7e3b46-a6cf-4af5-9496-36b28a36fe1b",
   "metadata": {},
   "outputs": [
    {
     "data": {
      "text/plain": [
       "(1506, 2)"
      ]
     },
     "execution_count": 1223,
     "metadata": {},
     "output_type": "execute_result"
    }
   ],
   "source": [
    "data[data[\"password\"].str.isupper()].shape   "
   ]
  },
  {
   "cell_type": "code",
   "execution_count": 1224,
   "id": "656eeba2-5079-4cb4-8bd7-76ab3df43ad1",
   "metadata": {},
   "outputs": [],
   "source": [
    "# 1506 password contain only uppercase"
   ]
  },
  {
   "cell_type": "code",
   "execution_count": 1225,
   "id": "9aee189e-4c9b-435c-a3a8-160c7554e389",
   "metadata": {},
   "outputs": [
    {
     "data": {
      "text/plain": [
       "(50, 2)"
      ]
     },
     "execution_count": 1225,
     "metadata": {},
     "output_type": "execute_result"
    }
   ],
   "source": [
    "data[data[\"password\"].str.isalpha()].shape   "
   ]
  },
  {
   "cell_type": "code",
   "execution_count": 1226,
   "id": "492c1c1a-c8b5-4104-a089-81acd7f7ec52",
   "metadata": {},
   "outputs": [],
   "source": [
    "#50 password contain only alphabets"
   ]
  },
  {
   "cell_type": "code",
   "execution_count": 1227,
   "id": "61cd7669-684c-4df5-9140-914434cee981",
   "metadata": {},
   "outputs": [
    {
     "data": {
      "text/plain": [
       "(97203, 2)"
      ]
     },
     "execution_count": 1227,
     "metadata": {},
     "output_type": "execute_result"
    }
   ],
   "source": [
    "data[data[\"password\"].str.isalnum()].shape"
   ]
  },
  {
   "cell_type": "code",
   "execution_count": 1228,
   "id": "80e1d41e-508e-4e10-9336-21057d579db0",
   "metadata": {},
   "outputs": [],
   "source": [
    "#97203 password contain only alphanumeric"
   ]
  },
  {
   "cell_type": "code",
   "execution_count": 1229,
   "id": "4d3988e9-4fb7-42c6-a0d8-6593b90047da",
   "metadata": {},
   "outputs": [
    {
     "data": {
      "text/plain": [
       "(932, 2)"
      ]
     },
     "execution_count": 1229,
     "metadata": {},
     "output_type": "execute_result"
    }
   ],
   "source": [
    "data[data[\"password\"].str.istitle()].shape"
   ]
  },
  {
   "cell_type": "code",
   "execution_count": 1230,
   "id": "0b6339f0-1d82-4dc7-9ed5-291ef0a1b1e2",
   "metadata": {},
   "outputs": [],
   "source": [
    "#932 password contain title characters"
   ]
  },
  {
   "cell_type": "code",
   "execution_count": 1231,
   "id": "555bc353-c4a8-49eb-9fa9-97c2d17b0a15",
   "metadata": {},
   "outputs": [
    {
     "data": {
      "text/plain": [
       "(100000, 2)"
      ]
     },
     "execution_count": 1231,
     "metadata": {},
     "output_type": "execute_result"
    }
   ],
   "source": [
    "data.shape"
   ]
  },
  {
   "cell_type": "code",
   "execution_count": 1232,
   "id": "f7ddc450-e388-4d6f-ac8f-a1649553e19a",
   "metadata": {},
   "outputs": [],
   "source": [
    "#total 1 lakh values are there"
   ]
  },
  {
   "cell_type": "code",
   "execution_count": 1233,
   "id": "da95a8f9-dcb6-44b5-abb7-9cc3f708335a",
   "metadata": {},
   "outputs": [],
   "source": [
    "# For special characters there is no function, we need to create one"
   ]
  },
  {
   "cell_type": "code",
   "execution_count": 1234,
   "id": "77c93860-9846-4b77-8de5-ff665769373b",
   "metadata": {},
   "outputs": [
    {
     "data": {
      "text/plain": [
       "'!\"#$%&\\'()*+,-./:;<=>?@[\\\\]^_`{|}~'"
      ]
     },
     "execution_count": 1234,
     "metadata": {},
     "output_type": "execute_result"
    }
   ],
   "source": [
    "import string\n",
    "string.punctuation  "
   ]
  },
  {
   "cell_type": "code",
   "execution_count": 1235,
   "id": "8723a658-6352-463c-8df2-60af8c29e943",
   "metadata": {},
   "outputs": [],
   "source": [
    "def find_sementics(row):\n",
    "    for char in row:\n",
    "        if char in string.punctuation:\n",
    "            return 1\n",
    "        else: \n",
    "            pass\n",
    "        "
   ]
  },
  {
   "cell_type": "code",
   "execution_count": 1236,
   "id": "5b53f882-bc0c-466c-8b9c-1e3078205534",
   "metadata": {},
   "outputs": [
    {
     "data": {
      "text/plain": [
       "0        NaN\n",
       "1        NaN\n",
       "2        NaN\n",
       "3        1.0\n",
       "4        NaN\n",
       "        ... \n",
       "99995    NaN\n",
       "99996    NaN\n",
       "99997    NaN\n",
       "99998    NaN\n",
       "99999    NaN\n",
       "Name: password, Length: 100000, dtype: float64"
      ]
     },
     "execution_count": 1236,
     "metadata": {},
     "output_type": "execute_result"
    }
   ],
   "source": [
    "data[\"password\"].apply(find_sementics)"
   ]
  },
  {
   "cell_type": "code",
   "execution_count": 1237,
   "id": "ef5e0c02-e861-4167-a6bb-c162dd8bcefb",
   "metadata": {},
   "outputs": [
    {
     "data": {
      "text/plain": [
       "(2663, 2)"
      ]
     },
     "execution_count": 1237,
     "metadata": {},
     "output_type": "execute_result"
    }
   ],
   "source": [
    "data[data[\"password\"].apply(find_sementics)==1].shape"
   ]
  },
  {
   "cell_type": "code",
   "execution_count": 1238,
   "id": "8acb9192-cd93-4647-bf5e-24ee4e35934d",
   "metadata": {},
   "outputs": [],
   "source": [
    "#2663 passwords contain special characters"
   ]
  },
  {
   "cell_type": "code",
   "execution_count": 1239,
   "id": "dabba4ee-4cdc-4181-b628-f62b257c50bf",
   "metadata": {},
   "outputs": [],
   "source": [
    "#Feature engineering...  We have strength as our feature\n"
   ]
  },
  {
   "cell_type": "code",
   "execution_count": 1240,
   "id": "2856376e-99a2-4571-902f-406e766dd3ec",
   "metadata": {},
   "outputs": [
    {
     "data": {
      "text/plain": [
       "'zxe870819'"
      ]
     },
     "execution_count": 1240,
     "metadata": {},
     "output_type": "execute_result"
    }
   ],
   "source": [
    "data[\"password\"][0]"
   ]
  },
  {
   "cell_type": "code",
   "execution_count": 1241,
   "id": "b3390384-8bd5-4fa7-a509-09274e7eb463",
   "metadata": {},
   "outputs": [
    {
     "data": {
      "text/plain": [
       "9"
      ]
     },
     "execution_count": 1241,
     "metadata": {},
     "output_type": "execute_result"
    }
   ],
   "source": [
    "len(data[\"password\"][0])"
   ]
  },
  {
   "cell_type": "code",
   "execution_count": 1242,
   "id": "32f8120d-4933-4847-a2ff-5c18e27683a1",
   "metadata": {},
   "outputs": [],
   "source": [
    "data[\"Length\"] = data[\"password\"].str.len()"
   ]
  },
  {
   "cell_type": "code",
   "execution_count": 1243,
   "id": "674ed358-2cc0-4ab2-ad89-dbc5683c0344",
   "metadata": {},
   "outputs": [
    {
     "data": {
      "text/html": [
       "<div>\n",
       "<style scoped>\n",
       "    .dataframe tbody tr th:only-of-type {\n",
       "        vertical-align: middle;\n",
       "    }\n",
       "\n",
       "    .dataframe tbody tr th {\n",
       "        vertical-align: top;\n",
       "    }\n",
       "\n",
       "    .dataframe thead th {\n",
       "        text-align: right;\n",
       "    }\n",
       "</style>\n",
       "<table border=\"1\" class=\"dataframe\">\n",
       "  <thead>\n",
       "    <tr style=\"text-align: right;\">\n",
       "      <th></th>\n",
       "      <th>password</th>\n",
       "      <th>strength</th>\n",
       "      <th>Length</th>\n",
       "    </tr>\n",
       "  </thead>\n",
       "  <tbody>\n",
       "    <tr>\n",
       "      <th>0</th>\n",
       "      <td>zxe870819</td>\n",
       "      <td>1</td>\n",
       "      <td>9</td>\n",
       "    </tr>\n",
       "    <tr>\n",
       "      <th>1</th>\n",
       "      <td>xw46454nr23l</td>\n",
       "      <td>1</td>\n",
       "      <td>12</td>\n",
       "    </tr>\n",
       "  </tbody>\n",
       "</table>\n",
       "</div>"
      ],
      "text/plain": [
       "       password  strength  Length\n",
       "0     zxe870819         1       9\n",
       "1  xw46454nr23l         1      12"
      ]
     },
     "execution_count": 1243,
     "metadata": {},
     "output_type": "execute_result"
    }
   ],
   "source": [
    "data.head(2)"
   ]
  },
  {
   "cell_type": "code",
   "execution_count": 1244,
   "id": "77762632-2174-4b0c-98bc-3870a46930b0",
   "metadata": {},
   "outputs": [],
   "source": [
    "PASSWORD= \"Aryan99\"  #Sample"
   ]
  },
  {
   "cell_type": "code",
   "execution_count": 1245,
   "id": "a91cd1b8-2aef-42b5-996c-2c04c419d10a",
   "metadata": {},
   "outputs": [
    {
     "data": {
      "text/plain": [
       "4"
      ]
     },
     "execution_count": 1245,
     "metadata": {},
     "output_type": "execute_result"
    }
   ],
   "source": [
    "len([x for x in PASSWORD  if x.islower()])"
   ]
  },
  {
   "cell_type": "code",
   "execution_count": 1246,
   "id": "86551ab8-c988-4678-82ab-fb054d6b0d20",
   "metadata": {},
   "outputs": [
    {
     "data": {
      "text/plain": [
       "0.5714285714285714"
      ]
     },
     "execution_count": 1246,
     "metadata": {},
     "output_type": "execute_result"
    }
   ],
   "source": [
    "len([char for char in PASSWORD if char.islower()])/len(PASSWORD)"
   ]
  },
  {
   "cell_type": "code",
   "execution_count": 1247,
   "id": "563f0bca-ff58-4601-ab6f-7bd756a79822",
   "metadata": {},
   "outputs": [],
   "source": [
    "def freq_lowercase(row):\n",
    "    return len([char for char in row if char.islower()])/len(row)"
   ]
  },
  {
   "cell_type": "code",
   "execution_count": 1248,
   "id": "5fc6445e-5f95-448e-80f4-2f8f764dd2fd",
   "metadata": {},
   "outputs": [],
   "source": [
    "def freq_uppercase(row):\n",
    "    return len([char for char in row if char.isupper()])/len(row)"
   ]
  },
  {
   "cell_type": "code",
   "execution_count": 1249,
   "id": "6c22cf76-41aa-4888-9077-ab575ee745cd",
   "metadata": {},
   "outputs": [],
   "source": [
    "def freq_numerical_case(row):\n",
    "    return len([char for char in row if char.isdigit()])/len(row)"
   ]
  },
  {
   "cell_type": "code",
   "execution_count": 1250,
   "id": "d2a327d6-eccf-4547-ba0a-80efabb37a31",
   "metadata": {},
   "outputs": [],
   "source": [
    "data[\"lowercase_freq\"] = np.round(data[\"password\"].apply(freq_lowercase) , 3)\n",
    "\n",
    "data[\"uppercase_freq\"] = np.round(data[\"password\"].apply(freq_uppercase) , 3)\n",
    "\n",
    "data[\"digit_freq\"] = np.round(data[\"password\"].apply(freq_numerical_case) , 3)"
   ]
  },
  {
   "cell_type": "code",
   "execution_count": 1251,
   "id": "17db49b0-ee6b-4aa8-8df4-7ab56c4ab425",
   "metadata": {},
   "outputs": [
    {
     "data": {
      "text/html": [
       "<div>\n",
       "<style scoped>\n",
       "    .dataframe tbody tr th:only-of-type {\n",
       "        vertical-align: middle;\n",
       "    }\n",
       "\n",
       "    .dataframe tbody tr th {\n",
       "        vertical-align: top;\n",
       "    }\n",
       "\n",
       "    .dataframe thead th {\n",
       "        text-align: right;\n",
       "    }\n",
       "</style>\n",
       "<table border=\"1\" class=\"dataframe\">\n",
       "  <thead>\n",
       "    <tr style=\"text-align: right;\">\n",
       "      <th></th>\n",
       "      <th>password</th>\n",
       "      <th>strength</th>\n",
       "      <th>Length</th>\n",
       "      <th>lowercase_freq</th>\n",
       "      <th>uppercase_freq</th>\n",
       "      <th>digit_freq</th>\n",
       "    </tr>\n",
       "  </thead>\n",
       "  <tbody>\n",
       "    <tr>\n",
       "      <th>99998</th>\n",
       "      <td>mymyxe430</td>\n",
       "      <td>1</td>\n",
       "      <td>9</td>\n",
       "      <td>0.667</td>\n",
       "      <td>0.0</td>\n",
       "      <td>0.333</td>\n",
       "    </tr>\n",
       "    <tr>\n",
       "      <th>99999</th>\n",
       "      <td>glqjhkxb467</td>\n",
       "      <td>1</td>\n",
       "      <td>11</td>\n",
       "      <td>0.727</td>\n",
       "      <td>0.0</td>\n",
       "      <td>0.273</td>\n",
       "    </tr>\n",
       "  </tbody>\n",
       "</table>\n",
       "</div>"
      ],
      "text/plain": [
       "          password  strength  Length  lowercase_freq  uppercase_freq  \\\n",
       "99998    mymyxe430         1       9           0.667             0.0   \n",
       "99999  glqjhkxb467         1      11           0.727             0.0   \n",
       "\n",
       "       digit_freq  \n",
       "99998       0.333  \n",
       "99999       0.273  "
      ]
     },
     "execution_count": 1251,
     "metadata": {},
     "output_type": "execute_result"
    }
   ],
   "source": [
    "data.tail(2)"
   ]
  },
  {
   "cell_type": "code",
   "execution_count": 1252,
   "id": "60f3f36d-3be5-4d35-ba12-cbbceac29245",
   "metadata": {},
   "outputs": [],
   "source": [
    "#For special characters--\n",
    "def freq_special_case(row):\n",
    "    special_chars = []\n",
    "    for char in row:\n",
    "        if not char.isalpha() and not char.isdigit():\n",
    "            special_chars.append(char)\n",
    "    return len(special_chars)/len(row)"
   ]
  },
  {
   "cell_type": "code",
   "execution_count": 1253,
   "id": "0152917d-c49d-4d7d-b751-ec99b976d830",
   "metadata": {},
   "outputs": [],
   "source": [
    "data[\"special_char_fre\"] = np.round(data[\"password\"].apply(freq_special_case) , 3) ## applying \"freq_special_case\" function"
   ]
  },
  {
   "cell_type": "code",
   "execution_count": 1254,
   "id": "01d1b4a4-3d19-4570-aae2-48f3e90ce74e",
   "metadata": {},
   "outputs": [
    {
     "data": {
      "text/html": [
       "<div>\n",
       "<style scoped>\n",
       "    .dataframe tbody tr th:only-of-type {\n",
       "        vertical-align: middle;\n",
       "    }\n",
       "\n",
       "    .dataframe tbody tr th {\n",
       "        vertical-align: top;\n",
       "    }\n",
       "\n",
       "    .dataframe thead th {\n",
       "        text-align: right;\n",
       "    }\n",
       "</style>\n",
       "<table border=\"1\" class=\"dataframe\">\n",
       "  <thead>\n",
       "    <tr style=\"text-align: right;\">\n",
       "      <th></th>\n",
       "      <th>password</th>\n",
       "      <th>strength</th>\n",
       "      <th>Length</th>\n",
       "      <th>lowercase_freq</th>\n",
       "      <th>uppercase_freq</th>\n",
       "      <th>digit_freq</th>\n",
       "      <th>special_char_fre</th>\n",
       "    </tr>\n",
       "  </thead>\n",
       "  <tbody>\n",
       "    <tr>\n",
       "      <th>0</th>\n",
       "      <td>zxe870819</td>\n",
       "      <td>1</td>\n",
       "      <td>9</td>\n",
       "      <td>0.333</td>\n",
       "      <td>0.0</td>\n",
       "      <td>0.667</td>\n",
       "      <td>0.000</td>\n",
       "    </tr>\n",
       "    <tr>\n",
       "      <th>1</th>\n",
       "      <td>xw46454nr23l</td>\n",
       "      <td>1</td>\n",
       "      <td>12</td>\n",
       "      <td>0.417</td>\n",
       "      <td>0.0</td>\n",
       "      <td>0.583</td>\n",
       "      <td>0.000</td>\n",
       "    </tr>\n",
       "    <tr>\n",
       "      <th>2</th>\n",
       "      <td>soporte13</td>\n",
       "      <td>1</td>\n",
       "      <td>9</td>\n",
       "      <td>0.778</td>\n",
       "      <td>0.0</td>\n",
       "      <td>0.222</td>\n",
       "      <td>0.000</td>\n",
       "    </tr>\n",
       "    <tr>\n",
       "      <th>3</th>\n",
       "      <td>accounts6000webhost.com</td>\n",
       "      <td>2</td>\n",
       "      <td>23</td>\n",
       "      <td>0.783</td>\n",
       "      <td>0.0</td>\n",
       "      <td>0.174</td>\n",
       "      <td>0.043</td>\n",
       "    </tr>\n",
       "    <tr>\n",
       "      <th>4</th>\n",
       "      <td>c443balg</td>\n",
       "      <td>1</td>\n",
       "      <td>8</td>\n",
       "      <td>0.625</td>\n",
       "      <td>0.0</td>\n",
       "      <td>0.375</td>\n",
       "      <td>0.000</td>\n",
       "    </tr>\n",
       "  </tbody>\n",
       "</table>\n",
       "</div>"
      ],
      "text/plain": [
       "                  password  strength  Length  lowercase_freq  uppercase_freq  \\\n",
       "0                zxe870819         1       9           0.333             0.0   \n",
       "1             xw46454nr23l         1      12           0.417             0.0   \n",
       "2                soporte13         1       9           0.778             0.0   \n",
       "3  accounts6000webhost.com         2      23           0.783             0.0   \n",
       "4                 c443balg         1       8           0.625             0.0   \n",
       "\n",
       "   digit_freq  special_char_fre  \n",
       "0       0.667             0.000  \n",
       "1       0.583             0.000  \n",
       "2       0.222             0.000  \n",
       "3       0.174             0.043  \n",
       "4       0.375             0.000  "
      ]
     },
     "execution_count": 1254,
     "metadata": {},
     "output_type": "execute_result"
    }
   ],
   "source": [
    "data.head(5)"
   ]
  },
  {
   "cell_type": "code",
   "execution_count": 1255,
   "id": "cf6d6187-0d0a-465c-bf4f-65b9994c2ec3",
   "metadata": {},
   "outputs": [],
   "source": [
    "data = data.rename(columns={'special_char_freq': 'special_char_count'})"
   ]
  },
  {
   "cell_type": "code",
   "execution_count": 1256,
   "id": "a4b43997-e703-4517-aaec-7526f8d9bea6",
   "metadata": {},
   "outputs": [
    {
     "data": {
      "text/plain": [
       "password            accounts6000webhost.com\n",
       "strength                                  2\n",
       "Length                                   23\n",
       "lowercase_freq                        0.783\n",
       "uppercase_freq                          0.0\n",
       "digit_freq                            0.174\n",
       "special_char_fre                      0.043\n",
       "Name: 3, dtype: object"
      ]
     },
     "execution_count": 1256,
     "metadata": {},
     "output_type": "execute_result"
    }
   ],
   "source": [
    "data.iloc[3]"
   ]
  },
  {
   "cell_type": "code",
   "execution_count": 1257,
   "id": "7b5d0930-bd6e-490b-826a-e323d74492b2",
   "metadata": {},
   "outputs": [],
   "source": [
    "#Perform descriptive Statistic--"
   ]
  },
  {
   "cell_type": "code",
   "execution_count": 1258,
   "id": "05e67069-511e-4fab-9259-a1c28a0a087e",
   "metadata": {},
   "outputs": [
    {
     "data": {
      "text/plain": [
       "Index(['password', 'strength', 'Length', 'lowercase_freq', 'uppercase_freq',\n",
       "       'digit_freq', 'special_char_fre'],\n",
       "      dtype='object')"
      ]
     },
     "execution_count": 1258,
     "metadata": {},
     "output_type": "execute_result"
    }
   ],
   "source": [
    "data.columns"
   ]
  },
  {
   "cell_type": "code",
   "execution_count": 1259,
   "id": "7b8bd41e-bb56-4467-b690-aacc8c4a9d3f",
   "metadata": {},
   "outputs": [
    {
     "data": {
      "text/html": [
       "<div>\n",
       "<style scoped>\n",
       "    .dataframe tbody tr th:only-of-type {\n",
       "        vertical-align: middle;\n",
       "    }\n",
       "\n",
       "    .dataframe tbody tr th {\n",
       "        vertical-align: top;\n",
       "    }\n",
       "\n",
       "    .dataframe thead tr th {\n",
       "        text-align: left;\n",
       "    }\n",
       "\n",
       "    .dataframe thead tr:last-of-type th {\n",
       "        text-align: right;\n",
       "    }\n",
       "</style>\n",
       "<table border=\"1\" class=\"dataframe\">\n",
       "  <thead>\n",
       "    <tr>\n",
       "      <th></th>\n",
       "      <th colspan=\"4\" halign=\"left\">Length</th>\n",
       "    </tr>\n",
       "    <tr>\n",
       "      <th></th>\n",
       "      <th>min</th>\n",
       "      <th>max</th>\n",
       "      <th>median</th>\n",
       "      <th>mean</th>\n",
       "    </tr>\n",
       "    <tr>\n",
       "      <th>strength</th>\n",
       "      <th></th>\n",
       "      <th></th>\n",
       "      <th></th>\n",
       "      <th></th>\n",
       "    </tr>\n",
       "  </thead>\n",
       "  <tbody>\n",
       "    <tr>\n",
       "      <th>0</th>\n",
       "      <td>1</td>\n",
       "      <td>7</td>\n",
       "      <td>7.0</td>\n",
       "      <td>6.550947</td>\n",
       "    </tr>\n",
       "    <tr>\n",
       "      <th>1</th>\n",
       "      <td>8</td>\n",
       "      <td>13</td>\n",
       "      <td>9.0</td>\n",
       "      <td>9.611074</td>\n",
       "    </tr>\n",
       "    <tr>\n",
       "      <th>2</th>\n",
       "      <td>14</td>\n",
       "      <td>220</td>\n",
       "      <td>16.0</td>\n",
       "      <td>15.953421</td>\n",
       "    </tr>\n",
       "  </tbody>\n",
       "</table>\n",
       "</div>"
      ],
      "text/plain": [
       "         Length                       \n",
       "            min  max median       mean\n",
       "strength                              \n",
       "0             1    7    7.0   6.550947\n",
       "1             8   13    9.0   9.611074\n",
       "2            14  220   16.0  15.953421"
      ]
     },
     "execution_count": 1259,
     "metadata": {},
     "output_type": "execute_result"
    }
   ],
   "source": [
    "data[['Length', 'strength']].groupby(['strength']).agg(['min' , 'max' , 'median' , 'mean'])"
   ]
  },
  {
   "cell_type": "code",
   "execution_count": 1260,
   "id": "6fe605dd-2aa1-4fe4-914c-a21b439345fd",
   "metadata": {},
   "outputs": [
    {
     "name": "stdout",
     "output_type": "stream",
     "text": [
      "Length\n",
      "         Length                       \n",
      "            min  max median       mean\n",
      "strength                              \n",
      "0             1    7    7.0   6.550947\n",
      "1             8   13    9.0   9.611074\n",
      "2            14  220   16.0  15.953421\n",
      "\n",
      "\n",
      "lowercase_freq\n",
      "         lowercase_freq                        \n",
      "                    min    max median      mean\n",
      "strength                                       \n",
      "0                   0.0  1.000  0.714  0.708050\n",
      "1                   0.0  0.923  0.667  0.630067\n",
      "2                   0.0  0.917  0.400  0.424679\n",
      "\n",
      "\n",
      "uppercase_freq\n",
      "         uppercase_freq                        \n",
      "                    min    max median      mean\n",
      "strength                                       \n",
      "0                   0.0  1.000  0.000  0.012872\n",
      "1                   0.0  0.923  0.000  0.007915\n",
      "2                   0.0  0.889  0.429  0.367633\n",
      "\n",
      "\n",
      "digit_freq\n",
      "         digit_freq                        \n",
      "                min    max median      mean\n",
      "strength                                   \n",
      "0               0.0  1.000  0.286  0.275383\n",
      "1               0.0  0.923  0.333  0.360123\n",
      "2               0.0  0.895  0.188  0.193796\n",
      "\n",
      "\n",
      "special_char_fre\n",
      "         special_char_fre                        \n",
      "                      min    max median      mean\n",
      "strength                                         \n",
      "0                     0.0  1.000    0.0  0.003696\n",
      "1                     0.0  0.818    0.0  0.001895\n",
      "2                     0.0  0.741    0.0  0.013867\n",
      "\n",
      "\n"
     ]
    }
   ],
   "source": [
    "cols=[\"Length\", \"lowercase_freq\" , \"uppercase_freq\" , \"digit_freq\" , \"special_char_fre\"]\n",
    "for col in cols:\n",
    "    print(col)\n",
    "    print(data[[col,'strength']].groupby(['strength']).agg(['min' , 'max' , 'median' , 'mean']))\n",
    "    print(\"\\n\")"
   ]
  },
  {
   "cell_type": "code",
   "execution_count": 1261,
   "id": "89eec084-f0ef-4654-94e1-065f7ff11df7",
   "metadata": {},
   "outputs": [],
   "source": [
    "#boxplot returns 25th percentile , 50th percentile, 75th percentile and wiscus value"
   ]
  },
  {
   "cell_type": "code",
   "execution_count": 1262,
   "id": "f9b4abed-2f2b-4023-83f2-8bc7dd206c4d",
   "metadata": {},
   "outputs": [
    {
     "data": {
      "image/png": "[encoded data removed]",
      "text/plain": [
       "<Figure size 640x480 with 6 Axes>"
      ]
     },
     "metadata": {},
     "output_type": "display_data"
    }
   ],
   "source": [
    "fig , ((ax1 , ax2) , (ax3 , ax4) , (ax5 , ax6)) = plt.subplots(3,2)\n",
    "sns.boxplot(x= \"strength\" , y= \"Length\" , hue=\"strength\", ax=ax1, data=data)\n",
    "sns.boxplot(x=\"strength\" , y='lowercase_freq' , hue=\"strength\" , ax=ax2, data=data)\n",
    "sns.boxplot(x=\"strength\" , y='uppercase_freq' , hue=\"strength\" , ax=ax3, data=data)\n",
    "sns.boxplot(x=\"strength\" , y='digit_freq' , hue=\"strength\" , ax=ax4, data=data)\n",
    "sns.boxplot(x=\"strength\" , y='special_char_fre' , hue=\"strength\" , ax=ax5, data=data)\n",
    "\n",
    "plt.subplots_adjust(hspace=0.9) #hspace= horizontal space to increase between plots for clear understanding"
   ]
  },
  {
   "cell_type": "code",
   "execution_count": 1263,
   "id": "b008b432-0389-4979-a802-d24cce5ffa64",
   "metadata": {},
   "outputs": [],
   "source": [
    "import warnings\n",
    "from warnings import filterwarnings\n",
    "filterwarnings(\"ignore\")"
   ]
  },
  {
   "cell_type": "code",
   "execution_count": 1264,
   "id": "e895fc0f-909b-4af7-b202-92bc5ca60771",
   "metadata": {},
   "outputs": [],
   "source": [
    "#Feature importance-- \n",
    "#Using distribution plot and violin plot to analyse"
   ]
  },
  {
   "cell_type": "code",
   "execution_count": 1265,
   "id": "33498dac-babe-49b5-afa3-2ac2cac60aca",
   "metadata": {},
   "outputs": [],
   "source": [
    "def get_dist(data , feature):\n",
    "    plt.figure(figsize=(10,8))\n",
    "    plt.subplot(1,2,1)\n",
    "    sns.violinplot(x=\"strength\" , y=feature , data= data)\n",
    "\n",
    "    plt.subplot(1,2,2)\n",
    "    sns.distplot(data[data[\"strength\"]==0][feature] , color= \"red\" , label= \"0\" , hist= False)\n",
    "    sns.distplot(data[data[\"strength\"]==1][feature] , color= \"blue\" , label= \"0\" , hist= False)\n",
    "    sns.distplot(data[data[\"strength\"]==2][feature] , color= \"yellow\" , label= \"0\" , hist= False)\n",
    "    plt.legend()\n",
    "    plt.show()"
   ]
  },
  {
   "cell_type": "code",
   "execution_count": 1266,
   "id": "be44f2c1-d6f6-4ce9-b6a1-588e8acfc519",
   "metadata": {},
   "outputs": [
    {
     "data": {
      "image/png": "[encoded data removed]",
      "text/plain": [
       "<Figure size 1000x800 with 2 Axes>"
      ]
     },
     "metadata": {},
     "output_type": "display_data"
    }
   ],
   "source": [
    "get_dist(data, \"Length\")"
   ]
  },
  {
   "cell_type": "code",
   "execution_count": 1267,
   "id": "47a975b6-b5eb-45c7-bbea-474f6f2a5851",
   "metadata": {},
   "outputs": [],
   "source": [
    "#AS WE can see from first plot, strength depends on length and in second plot also there is very less overlapping so strength is dependent on length"
   ]
  },
  {
   "cell_type": "code",
   "execution_count": 1268,
   "id": "29bf3a0b-1365-4015-9503-64c239fe6b38",
   "metadata": {},
   "outputs": [
    {
     "data": {
      "image/png": "[encoded data removed]",
      "text/plain": [
       "<Figure size 1000x800 with 2 Axes>"
      ]
     },
     "metadata": {},
     "output_type": "display_data"
    }
   ],
   "source": [
    "get_dist(data, \"lowercase_freq\")"
   ]
  },
  {
   "cell_type": "code",
   "execution_count": 1269,
   "id": "0015ca8b-7de3-44dc-bda6-a1ad5d1ff7bf",
   "metadata": {},
   "outputs": [],
   "source": [
    "#by observation , less overlapping so it is important"
   ]
  },
  {
   "cell_type": "code",
   "execution_count": 1270,
   "id": "16ca17b1-83b4-48d9-a464-c980e3d39671",
   "metadata": {},
   "outputs": [
    {
     "data": {
      "image/png": "[encoded data removed]",
      "text/plain": [
       "<Figure size 1000x800 with 2 Axes>"
      ]
     },
     "metadata": {},
     "output_type": "display_data"
    }
   ],
   "source": [
    "get_dist(data, \"special_char_fre\")"
   ]
  },
  {
   "cell_type": "code",
   "execution_count": 1271,
   "id": "4374fbc1-2d4f-476e-b756-7a5c2cb9030c",
   "metadata": {},
   "outputs": [],
   "source": [
    "#we have lot of overlapping so it is not useful"
   ]
  },
  {
   "cell_type": "code",
   "execution_count": 1272,
   "id": "14cfc34d-e71a-4211-9754-b40581b63788",
   "metadata": {},
   "outputs": [
    {
     "data": {
      "image/png": "[encoded data removed]",
      "text/plain": [
       "<Figure size 1000x800 with 2 Axes>"
      ]
     },
     "metadata": {},
     "output_type": "display_data"
    }
   ],
   "source": [
    "get_dist(data, \"digit_freq\")"
   ]
  },
  {
   "cell_type": "code",
   "execution_count": 1273,
   "id": "0e149871-889e-4479-b04e-a0b5bdd7480b",
   "metadata": {},
   "outputs": [],
   "source": [
    "#lots of overlapping so not important"
   ]
  },
  {
   "cell_type": "code",
   "execution_count": 1274,
   "id": "ea608762-bd7d-4e4b-8cc5-1c138e970f22",
   "metadata": {},
   "outputs": [
    {
     "data": {
      "image/png": "[encoded data removed]",
      "text/plain": [
       "<Figure size 1000x800 with 2 Axes>"
      ]
     },
     "metadata": {},
     "output_type": "display_data"
    }
   ],
   "source": [
    "get_dist(data, \"uppercase_freq\")"
   ]
  },
  {
   "cell_type": "code",
   "execution_count": 1275,
   "id": "cbd59399-325d-4939-99ee-20024d24fe7e",
   "metadata": {},
   "outputs": [],
   "source": [
    "#lots of overlapping so it is not useful"
   ]
  },
  {
   "cell_type": "code",
   "execution_count": 1276,
   "id": "593ec986-033b-4e3d-8d5c-43d9f41ae5a4",
   "metadata": {},
   "outputs": [],
   "source": [
    "#Password strength is dependent most on length and lowercase_frequenccy"
   ]
  },
  {
   "cell_type": "code",
   "execution_count": 1277,
   "id": "de2fbaa5-a631-414c-b11b-2a8e044159ef",
   "metadata": {},
   "outputs": [],
   "source": [
    "#We will use TF-IDF in this machine learning algorithm for this use"
   ]
  },
  {
   "cell_type": "code",
   "execution_count": 1278,
   "id": "c664c9fc-db36-40ef-9576-2a24794dc866",
   "metadata": {},
   "outputs": [],
   "source": [
    "#Since Ml cant understand text so the input password should be converted to vector representation "
   ]
  },
  {
   "cell_type": "code",
   "execution_count": 1279,
   "id": "4acd82b2-2496-403a-b080-28550ef03691",
   "metadata": {},
   "outputs": [
    {
     "data": {
      "text/html": [
       "<div>\n",
       "<style scoped>\n",
       "    .dataframe tbody tr th:only-of-type {\n",
       "        vertical-align: middle;\n",
       "    }\n",
       "\n",
       "    .dataframe tbody tr th {\n",
       "        vertical-align: top;\n",
       "    }\n",
       "\n",
       "    .dataframe thead th {\n",
       "        text-align: right;\n",
       "    }\n",
       "</style>\n",
       "<table border=\"1\" class=\"dataframe\">\n",
       "  <thead>\n",
       "    <tr style=\"text-align: right;\">\n",
       "      <th></th>\n",
       "      <th>password</th>\n",
       "      <th>strength</th>\n",
       "      <th>Length</th>\n",
       "      <th>lowercase_freq</th>\n",
       "      <th>uppercase_freq</th>\n",
       "      <th>digit_freq</th>\n",
       "      <th>special_char_fre</th>\n",
       "    </tr>\n",
       "  </thead>\n",
       "  <tbody>\n",
       "    <tr>\n",
       "      <th>0</th>\n",
       "      <td>zxe870819</td>\n",
       "      <td>1</td>\n",
       "      <td>9</td>\n",
       "      <td>0.333</td>\n",
       "      <td>0.0</td>\n",
       "      <td>0.667</td>\n",
       "      <td>0.0</td>\n",
       "    </tr>\n",
       "    <tr>\n",
       "      <th>1</th>\n",
       "      <td>xw46454nr23l</td>\n",
       "      <td>1</td>\n",
       "      <td>12</td>\n",
       "      <td>0.417</td>\n",
       "      <td>0.0</td>\n",
       "      <td>0.583</td>\n",
       "      <td>0.0</td>\n",
       "    </tr>\n",
       "  </tbody>\n",
       "</table>\n",
       "</div>"
      ],
      "text/plain": [
       "       password  strength  Length  lowercase_freq  uppercase_freq  digit_freq  \\\n",
       "0     zxe870819         1       9           0.333             0.0       0.667   \n",
       "1  xw46454nr23l         1      12           0.417             0.0       0.583   \n",
       "\n",
       "   special_char_fre  \n",
       "0               0.0  \n",
       "1               0.0  "
      ]
     },
     "execution_count": 1279,
     "metadata": {},
     "output_type": "execute_result"
    }
   ],
   "source": [
    "data.head(2)"
   ]
  },
  {
   "cell_type": "code",
   "execution_count": 1280,
   "id": "8fb73781-9dbc-4082-bfb9-2f09a4dbb896",
   "metadata": {},
   "outputs": [],
   "source": [
    "df= data.sample(frac=1)"
   ]
  },
  {
   "cell_type": "code",
   "execution_count": 1281,
   "id": "12eb915f-0080-49b5-966e-45fb724f70fb",
   "metadata": {},
   "outputs": [],
   "source": [
    "from sklearn.feature_extraction.text import TfidfVectorizer # import TF-IDF vectorizer to convert text data into numerical data"
   ]
  },
  {
   "cell_type": "code",
   "execution_count": 1282,
   "id": "011e4a53-eb90-4cc1-9d4d-3e96d9a1aa94",
   "metadata": {},
   "outputs": [],
   "source": [
    "y= list(df[\"password\"])   #fit transform function access/operates oonly on list or array so we converting df to list and store in a variable"
   ]
  },
  {
   "cell_type": "code",
   "execution_count": 1283,
   "id": "8f5e70a8-a2bc-4565-9d1d-6c2ad933257e",
   "metadata": {},
   "outputs": [],
   "source": [
    "y= vectorizer.fit_transform(y)\n"
   ]
  },
  {
   "cell_type": "code",
   "execution_count": 1284,
   "id": "80c5103b-d0a8-4dd2-8550-fb54ce793983",
   "metadata": {},
   "outputs": [
    {
     "data": {
      "text/plain": [
       "(100000, 99)"
      ]
     },
     "execution_count": 1284,
     "metadata": {},
     "output_type": "execute_result"
    }
   ],
   "source": [
    "y.shape"
   ]
  },
  {
   "cell_type": "code",
   "execution_count": 1285,
   "id": "f1ce1ade-e8d6-49b7-a9d1-7b07b7a48279",
   "metadata": {},
   "outputs": [
    {
     "data": {
      "text/plain": [
       "scipy.sparse._csr.csr_matrix"
      ]
     },
     "execution_count": 1285,
     "metadata": {},
     "output_type": "execute_result"
    }
   ],
   "source": [
    "type(y)"
   ]
  },
  {
   "cell_type": "code",
   "execution_count": 1286,
   "id": "4478c782-3887-43ff-8a74-ae933fb4d3c1",
   "metadata": {},
   "outputs": [],
   "source": [
    "#y is a sparse matrix "
   ]
  },
  {
   "cell_type": "code",
   "execution_count": 1287,
   "id": "5957122a-8c0f-4e0e-8a76-0b2fcf83fd3a",
   "metadata": {},
   "outputs": [
    {
     "data": {
      "text/plain": [
       "array([0.        , 0.        , 0.        , 0.        , 0.        ,\n",
       "       0.        , 0.        , 0.        , 0.        , 0.        ,\n",
       "       0.        , 0.        , 0.        , 0.        , 0.        ,\n",
       "       0.        , 0.        , 0.        , 0.        , 0.        ,\n",
       "       0.        , 0.        , 0.5668567 , 0.        , 0.35049932,\n",
       "       0.        , 0.        , 0.        , 0.        , 0.        ,\n",
       "       0.        , 0.        , 0.        , 0.        , 0.        ,\n",
       "       0.        , 0.        , 0.        , 0.        , 0.        ,\n",
       "       0.        , 0.        , 0.23592317, 0.        , 0.        ,\n",
       "       0.        , 0.        , 0.        , 0.37449997, 0.38077855,\n",
       "       0.2863912 , 0.        , 0.        , 0.        , 0.        ,\n",
       "       0.        , 0.        , 0.        , 0.        , 0.        ,\n",
       "       0.        , 0.        , 0.        , 0.        , 0.        ,\n",
       "       0.        , 0.3645566 , 0.        , 0.        , 0.        ,\n",
       "       0.        , 0.        , 0.        , 0.        , 0.        ,\n",
       "       0.        , 0.        , 0.        , 0.        , 0.        ,\n",
       "       0.        , 0.        , 0.        , 0.        , 0.        ,\n",
       "       0.        , 0.        , 0.        , 0.        , 0.        ,\n",
       "       0.        , 0.        , 0.        , 0.        , 0.        ,\n",
       "       0.        , 0.        , 0.        , 0.        ])"
      ]
     },
     "execution_count": 1287,
     "metadata": {},
     "output_type": "execute_result"
    }
   ],
   "source": [
    "y.toarray()[0]  #vector representation of our 0th password of sample data"
   ]
  },
  {
   "cell_type": "code",
   "execution_count": 1288,
   "id": "7c4a63e9-5ab8-4874-a085-22e3800379c7",
   "metadata": {},
   "outputs": [
    {
     "data": {
      "text/plain": [
       "99"
      ]
     },
     "execution_count": 1288,
     "metadata": {},
     "output_type": "execute_result"
    }
   ],
   "source": [
    "len(vectorizer.get_feature_names_out())"
   ]
  },
  {
   "cell_type": "code",
   "execution_count": 1289,
   "id": "65eac19f-7145-443e-8057-9c5606bd61bc",
   "metadata": {},
   "outputs": [
    {
     "data": {
      "text/plain": [
       "array(['\\x04', '\\x06', '\\x08', '\\x0e', '\\x10', '\\x11', '\\x17', ' ', '!',\n",
       "       '#', '$', '%', '&', '(', ')', '*', '+', '-', '.', '/', '0', '1',\n",
       "       '2', '3', '4', '5', '6', '7', '8', '9', ';', '<', '=', '>', '?',\n",
       "       '@', '[', '\\\\', ']', '^', '_', '`', 'a', 'b', 'c', 'd', 'e', 'f',\n",
       "       'g', 'h', 'i', 'j', 'k', 'l', 'm', 'n', 'o', 'p', 'q', 'r', 's',\n",
       "       't', 'u', 'v', 'w', 'x', 'y', 'z', '{', '|', '}', '~', '¡', '¨',\n",
       "       '°', '±', '³', '´', 'µ', '·', 'ß', 'à', 'á', 'ä', 'æ', 'ç', 'é',\n",
       "       'ê', 'í', 'ñ', 'ó', 'õ', 'ö', '÷', 'ú', 'ü', 'ý', 'þ', '›'],\n",
       "      dtype=object)"
      ]
     },
     "execution_count": 1289,
     "metadata": {},
     "output_type": "execute_result"
    }
   ],
   "source": [
    "vectorizer.get_feature_names_out()"
   ]
  },
  {
   "cell_type": "code",
   "execution_count": 1290,
   "id": "4a50aaec-c073-409c-93f5-090da82be1e1",
   "metadata": {},
   "outputs": [],
   "source": [
    "df2=pd.DataFrame(y.toarray() , columns=vectorizer.get_feature_names_out())"
   ]
  },
  {
   "cell_type": "code",
   "execution_count": 1291,
   "id": "714a1bb8-13f5-48a7-8b86-efcc54223494",
   "metadata": {},
   "outputs": [
    {
     "data": {
      "text/plain": [
       "Index(['password', 'strength', 'Length', 'lowercase_freq', 'uppercase_freq',\n",
       "       'digit_freq', 'special_char_fre'],\n",
       "      dtype='object')"
      ]
     },
     "execution_count": 1291,
     "metadata": {},
     "output_type": "execute_result"
    }
   ],
   "source": [
    "df.columns"
   ]
  },
  {
   "cell_type": "code",
   "execution_count": 1292,
   "id": "a322d1f6-0067-455c-a48c-1e6fe441af65",
   "metadata": {},
   "outputs": [],
   "source": [
    "df2[\"Length\"] = df['Length']\n",
    "df2[\"lowercase_freq\"] = df['lowercase_freq']\n",
    "#as by our earlier analysis strength was mostly depenedent on these 2 parameters"
   ]
  },
  {
   "cell_type": "code",
   "execution_count": 1293,
   "id": "cee7bf64-66a1-4484-bb67-de1c541c018a",
   "metadata": {},
   "outputs": [
    {
     "data": {
      "text/html": [
       "<div>\n",
       "<style scoped>\n",
       "    .dataframe tbody tr th:only-of-type {\n",
       "        vertical-align: middle;\n",
       "    }\n",
       "\n",
       "    .dataframe tbody tr th {\n",
       "        vertical-align: top;\n",
       "    }\n",
       "\n",
       "    .dataframe thead th {\n",
       "        text-align: right;\n",
       "    }\n",
       "</style>\n",
       "<table border=\"1\" class=\"dataframe\">\n",
       "  <thead>\n",
       "    <tr style=\"text-align: right;\">\n",
       "      <th></th>\n",
       "      <th>\u0004</th>\n",
       "      <th>\u0006</th>\n",
       "      <th>\b</th>\n",
       "      <th>\u000e</th>\n",
       "      <th>\u0010</th>\n",
       "      <th>\u0011</th>\n",
       "      <th>\u0017</th>\n",
       "      <th></th>\n",
       "      <th>!</th>\n",
       "      <th>#</th>\n",
       "      <th>...</th>\n",
       "      <th>õ</th>\n",
       "      <th>ö</th>\n",
       "      <th>÷</th>\n",
       "      <th>ú</th>\n",
       "      <th>ü</th>\n",
       "      <th>ý</th>\n",
       "      <th>þ</th>\n",
       "      <th>›</th>\n",
       "      <th>Length</th>\n",
       "      <th>lowercase_freq</th>\n",
       "    </tr>\n",
       "  </thead>\n",
       "  <tbody>\n",
       "    <tr>\n",
       "      <th>0</th>\n",
       "      <td>0.0</td>\n",
       "      <td>0.0</td>\n",
       "      <td>0.0</td>\n",
       "      <td>0.0</td>\n",
       "      <td>0.0</td>\n",
       "      <td>0.0</td>\n",
       "      <td>0.0</td>\n",
       "      <td>0.0</td>\n",
       "      <td>0.0</td>\n",
       "      <td>0.0</td>\n",
       "      <td>...</td>\n",
       "      <td>0.0</td>\n",
       "      <td>0.0</td>\n",
       "      <td>0.0</td>\n",
       "      <td>0.0</td>\n",
       "      <td>0.0</td>\n",
       "      <td>0.0</td>\n",
       "      <td>0.0</td>\n",
       "      <td>0.0</td>\n",
       "      <td>9</td>\n",
       "      <td>0.333</td>\n",
       "    </tr>\n",
       "    <tr>\n",
       "      <th>1</th>\n",
       "      <td>0.0</td>\n",
       "      <td>0.0</td>\n",
       "      <td>0.0</td>\n",
       "      <td>0.0</td>\n",
       "      <td>0.0</td>\n",
       "      <td>0.0</td>\n",
       "      <td>0.0</td>\n",
       "      <td>0.0</td>\n",
       "      <td>0.0</td>\n",
       "      <td>0.0</td>\n",
       "      <td>...</td>\n",
       "      <td>0.0</td>\n",
       "      <td>0.0</td>\n",
       "      <td>0.0</td>\n",
       "      <td>0.0</td>\n",
       "      <td>0.0</td>\n",
       "      <td>0.0</td>\n",
       "      <td>0.0</td>\n",
       "      <td>0.0</td>\n",
       "      <td>12</td>\n",
       "      <td>0.417</td>\n",
       "    </tr>\n",
       "  </tbody>\n",
       "</table>\n",
       "<p>2 rows × 101 columns</p>\n",
       "</div>"
      ],
      "text/plain": [
       "     \u0004    \u0006    \b    \u000e    \u0010    \u0011    \u0017         !    #  ...    õ    ö    ÷    ú  \\\n",
       "0  0.0  0.0  0.0  0.0  0.0  0.0  0.0  0.0  0.0  0.0  ...  0.0  0.0  0.0  0.0   \n",
       "1  0.0  0.0  0.0  0.0  0.0  0.0  0.0  0.0  0.0  0.0  ...  0.0  0.0  0.0  0.0   \n",
       "\n",
       "     ü    ý    þ    ›  Length  lowercase_freq  \n",
       "0  0.0  0.0  0.0  0.0       9           0.333  \n",
       "1  0.0  0.0  0.0  0.0      12           0.417  \n",
       "\n",
       "[2 rows x 101 columns]"
      ]
     },
     "execution_count": 1293,
     "metadata": {},
     "output_type": "execute_result"
    }
   ],
   "source": [
    "df2.head(2)"
   ]
  },
  {
   "cell_type": "code",
   "execution_count": 1294,
   "id": "7a1571aa-47fe-44f7-938f-e59e7f90143b",
   "metadata": {},
   "outputs": [],
   "source": [
    "y = df[\"strength\"]"
   ]
  },
  {
   "cell_type": "code",
   "execution_count": 1295,
   "id": "439f2d6c-6e50-4e43-bbf1-6b0399d8d59d",
   "metadata": {},
   "outputs": [],
   "source": [
    "#Applying machine learning algorithms--"
   ]
  },
  {
   "cell_type": "code",
   "execution_count": 1296,
   "id": "a744958e-418d-45a7-8c49-a6d6f36b7a4f",
   "metadata": {},
   "outputs": [],
   "source": [
    "\n",
    "from sklearn.model_selection import train_test_split"
   ]
  },
  {
   "cell_type": "code",
   "execution_count": 1297,
   "id": "f7d3641e-ca47-4fb0-b2c4-441e92d6768d",
   "metadata": {},
   "outputs": [],
   "source": [
    "X_train, X_test, y_train, y_test = train_test_split(df2, y, test_size=0.20, random_state= 56)"
   ]
  },
  {
   "cell_type": "code",
   "execution_count": 1298,
   "id": "66295242-082e-4800-b162-e9bd2149a13c",
   "metadata": {},
   "outputs": [
    {
     "data": {
      "text/plain": [
       "(80000, 101)"
      ]
     },
     "execution_count": 1298,
     "metadata": {},
     "output_type": "execute_result"
    }
   ],
   "source": [
    "X_train.shape"
   ]
  },
  {
   "cell_type": "code",
   "execution_count": 1299,
   "id": "6020c3ad-26e0-43ea-887f-b1db4d73f25c",
   "metadata": {},
   "outputs": [
    {
     "data": {
      "text/plain": [
       "(80000,)"
      ]
     },
     "execution_count": 1299,
     "metadata": {},
     "output_type": "execute_result"
    }
   ],
   "source": [
    "y_train.shape"
   ]
  },
  {
   "cell_type": "code",
   "execution_count": 1300,
   "id": "6e804dcc-7aa7-4c4b-8687-9f603712cdfc",
   "metadata": {},
   "outputs": [],
   "source": [
    "from sklearn.linear_model import LogisticRegression "
   ]
  },
  {
   "cell_type": "code",
   "execution_count": 1301,
   "id": "c97bcace-6dec-4c46-9db6-404ffb41e123",
   "metadata": {},
   "outputs": [],
   "source": [
    "## Apply Multinomial logistic Regression as have data have 3 categories in outcomes\n",
    "\n",
    "clf = LogisticRegression(multi_class=\"multinomial\")"
   ]
  },
  {
   "cell_type": "code",
   "execution_count": 1302,
   "id": "5dc10ebc-3ff4-462a-bdf7-4dca22e9ad72",
   "metadata": {},
   "outputs": [
    {
     "data": {
      "text/html": [
       "<style>#sk-container-id-5 {\n",
       "  /* Definition of color scheme common for light and dark mode */\n",
       "  --sklearn-color-text: black;\n",
       "  --sklearn-color-line: gray;\n",
       "  /* Definition of color scheme for unfitted estimators */\n",
       "  --sklearn-color-unfitted-level-0: #fff5e6;\n",
       "  --sklearn-color-unfitted-level-1: #f6e4d2;\n",
       "  --sklearn-color-unfitted-level-2: #ffe0b3;\n",
       "  --sklearn-color-unfitted-level-3: chocolate;\n",
       "  /* Definition of color scheme for fitted estimators */\n",
       "  --sklearn-color-fitted-level-0: #f0f8ff;\n",
       "  --sklearn-color-fitted-level-1: #d4ebff;\n",
       "  --sklearn-color-fitted-level-2: #b3dbfd;\n",
       "  --sklearn-color-fitted-level-3: cornflowerblue;\n",
       "\n",
       "  /* Specific color for light theme */\n",
       "  --sklearn-color-text-on-default-background: var(--sg-text-color, var(--theme-code-foreground, var(--jp-content-font-color1, black)));\n",
       "  --sklearn-color-background: var(--sg-background-color, var(--theme-background, var(--jp-layout-color0, white)));\n",
       "  --sklearn-color-border-box: var(--sg-text-color, var(--theme-code-foreground, var(--jp-content-font-color1, black)));\n",
       "  --sklearn-color-icon: #696969;\n",
       "\n",
       "  @media (prefers-color-scheme: dark) {\n",
       "    /* Redefinition of color scheme for dark theme */\n",
       "    --sklearn-color-text-on-default-background: var(--sg-text-color, var(--theme-code-foreground, var(--jp-content-font-color1, white)));\n",
       "    --sklearn-color-background: var(--sg-background-color, var(--theme-background, var(--jp-layout-color0, #111)));\n",
       "    --sklearn-color-border-box: var(--sg-text-color, var(--theme-code-foreground, var(--jp-content-font-color1, white)));\n",
       "    --sklearn-color-icon: #878787;\n",
       "  }\n",
       "}\n",
       "\n",
       "#sk-container-id-5 {\n",
       "  color: var(--sklearn-color-text);\n",
       "}\n",
       "\n",
       "#sk-container-id-5 pre {\n",
       "  padding: 0;\n",
       "}\n",
       "\n",
       "#sk-container-id-5 input.sk-hidden--visually {\n",
       "  border: 0;\n",
       "  clip: rect(1px 1px 1px 1px);\n",
       "  clip: rect(1px, 1px, 1px, 1px);\n",
       "  height: 1px;\n",
       "  margin: -1px;\n",
       "  overflow: hidden;\n",
       "  padding: 0;\n",
       "  position: absolute;\n",
       "  width: 1px;\n",
       "}\n",
       "\n",
       "#sk-container-id-5 div.sk-dashed-wrapped {\n",
       "  border: 1px dashed var(--sklearn-color-line);\n",
       "  margin: 0 0.4em 0.5em 0.4em;\n",
       "  box-sizing: border-box;\n",
       "  padding-bottom: 0.4em;\n",
       "  background-color: var(--sklearn-color-background);\n",
       "}\n",
       "\n",
       "#sk-container-id-5 div.sk-container {\n",
       "  /* jupyter's `normalize.less` sets `[hidden] { display: none; }`\n",
       "     but bootstrap.min.css set `[hidden] { display: none !important; }`\n",
       "     so we also need the `!important` here to be able to override the\n",
       "     default hidden behavior on the sphinx rendered scikit-learn.org.\n",
       "     See: https://github.com/scikit-learn/scikit-learn/issues/21755 */\n",
       "  display: inline-block !important;\n",
       "  position: relative;\n",
       "}\n",
       "\n",
       "#sk-container-id-5 div.sk-text-repr-fallback {\n",
       "  display: none;\n",
       "}\n",
       "\n",
       "div.sk-parallel-item,\n",
       "div.sk-serial,\n",
       "div.sk-item {\n",
       "  /* draw centered vertical line to link estimators */\n",
       "  background-image: linear-gradient(var(--sklearn-color-text-on-default-background), var(--sklearn-color-text-on-default-background));\n",
       "  background-size: 2px 100%;\n",
       "  background-repeat: no-repeat;\n",
       "  background-position: center center;\n",
       "}\n",
       "\n",
       "/* Parallel-specific style estimator block */\n",
       "\n",
       "#sk-container-id-5 div.sk-parallel-item::after {\n",
       "  content: \"\";\n",
       "  width: 100%;\n",
       "  border-bottom: 2px solid var(--sklearn-color-text-on-default-background);\n",
       "  flex-grow: 1;\n",
       "}\n",
       "\n",
       "#sk-container-id-5 div.sk-parallel {\n",
       "  display: flex;\n",
       "  align-items: stretch;\n",
       "  justify-content: center;\n",
       "  background-color: var(--sklearn-color-background);\n",
       "  position: relative;\n",
       "}\n",
       "\n",
       "#sk-container-id-5 div.sk-parallel-item {\n",
       "  display: flex;\n",
       "  flex-direction: column;\n",
       "}\n",
       "\n",
       "#sk-container-id-5 div.sk-parallel-item:first-child::after {\n",
       "  align-self: flex-end;\n",
       "  width: 50%;\n",
       "}\n",
       "\n",
       "#sk-container-id-5 div.sk-parallel-item:last-child::after {\n",
       "  align-self: flex-start;\n",
       "  width: 50%;\n",
       "}\n",
       "\n",
       "#sk-container-id-5 div.sk-parallel-item:only-child::after {\n",
       "  width: 0;\n",
       "}\n",
       "\n",
       "/* Serial-specific style estimator block */\n",
       "\n",
       "#sk-container-id-5 div.sk-serial {\n",
       "  display: flex;\n",
       "  flex-direction: column;\n",
       "  align-items: center;\n",
       "  background-color: var(--sklearn-color-background);\n",
       "  padding-right: 1em;\n",
       "  padding-left: 1em;\n",
       "}\n",
       "\n",
       "\n",
       "/* Toggleable style: style used for estimator/Pipeline/ColumnTransformer box that is\n",
       "clickable and can be expanded/collapsed.\n",
       "- Pipeline and ColumnTransformer use this feature and define the default style\n",
       "- Estimators will overwrite some part of the style using the `sk-estimator` class\n",
       "*/\n",
       "\n",
       "/* Pipeline and ColumnTransformer style (default) */\n",
       "\n",
       "#sk-container-id-5 div.sk-toggleable {\n",
       "  /* Default theme specific background. It is overwritten whether we have a\n",
       "  specific estimator or a Pipeline/ColumnTransformer */\n",
       "  background-color: var(--sklearn-color-background);\n",
       "}\n",
       "\n",
       "/* Toggleable label */\n",
       "#sk-container-id-5 label.sk-toggleable__label {\n",
       "  cursor: pointer;\n",
       "  display: block;\n",
       "  width: 100%;\n",
       "  margin-bottom: 0;\n",
       "  padding: 0.5em;\n",
       "  box-sizing: border-box;\n",
       "  text-align: center;\n",
       "}\n",
       "\n",
       "#sk-container-id-5 label.sk-toggleable__label-arrow:before {\n",
       "  /* Arrow on the left of the label */\n",
       "  content: \"▸\";\n",
       "  float: left;\n",
       "  margin-right: 0.25em;\n",
       "  color: var(--sklearn-color-icon);\n",
       "}\n",
       "\n",
       "#sk-container-id-5 label.sk-toggleable__label-arrow:hover:before {\n",
       "  color: var(--sklearn-color-text);\n",
       "}\n",
       "\n",
       "/* Toggleable content - dropdown */\n",
       "\n",
       "#sk-container-id-5 div.sk-toggleable__content {\n",
       "  max-height: 0;\n",
       "  max-width: 0;\n",
       "  overflow: hidden;\n",
       "  text-align: left;\n",
       "  /* unfitted */\n",
       "  background-color: var(--sklearn-color-unfitted-level-0);\n",
       "}\n",
       "\n",
       "#sk-container-id-5 div.sk-toggleable__content.fitted {\n",
       "  /* fitted */\n",
       "  background-color: var(--sklearn-color-fitted-level-0);\n",
       "}\n",
       "\n",
       "#sk-container-id-5 div.sk-toggleable__content pre {\n",
       "  margin: 0.2em;\n",
       "  border-radius: 0.25em;\n",
       "  color: var(--sklearn-color-text);\n",
       "  /* unfitted */\n",
       "  background-color: var(--sklearn-color-unfitted-level-0);\n",
       "}\n",
       "\n",
       "#sk-container-id-5 div.sk-toggleable__content.fitted pre {\n",
       "  /* unfitted */\n",
       "  background-color: var(--sklearn-color-fitted-level-0);\n",
       "}\n",
       "\n",
       "#sk-container-id-5 input.sk-toggleable__control:checked~div.sk-toggleable__content {\n",
       "  /* Expand drop-down */\n",
       "  max-height: 200px;\n",
       "  max-width: 100%;\n",
       "  overflow: auto;\n",
       "}\n",
       "\n",
       "#sk-container-id-5 input.sk-toggleable__control:checked~label.sk-toggleable__label-arrow:before {\n",
       "  content: \"▾\";\n",
       "}\n",
       "\n",
       "/* Pipeline/ColumnTransformer-specific style */\n",
       "\n",
       "#sk-container-id-5 div.sk-label input.sk-toggleable__control:checked~label.sk-toggleable__label {\n",
       "  color: var(--sklearn-color-text);\n",
       "  background-color: var(--sklearn-color-unfitted-level-2);\n",
       "}\n",
       "\n",
       "#sk-container-id-5 div.sk-label.fitted input.sk-toggleable__control:checked~label.sk-toggleable__label {\n",
       "  background-color: var(--sklearn-color-fitted-level-2);\n",
       "}\n",
       "\n",
       "/* Estimator-specific style */\n",
       "\n",
       "/* Colorize estimator box */\n",
       "#sk-container-id-5 div.sk-estimator input.sk-toggleable__control:checked~label.sk-toggleable__label {\n",
       "  /* unfitted */\n",
       "  background-color: var(--sklearn-color-unfitted-level-2);\n",
       "}\n",
       "\n",
       "#sk-container-id-5 div.sk-estimator.fitted input.sk-toggleable__control:checked~label.sk-toggleable__label {\n",
       "  /* fitted */\n",
       "  background-color: var(--sklearn-color-fitted-level-2);\n",
       "}\n",
       "\n",
       "#sk-container-id-5 div.sk-label label.sk-toggleable__label,\n",
       "#sk-container-id-5 div.sk-label label {\n",
       "  /* The background is the default theme color */\n",
       "  color: var(--sklearn-color-text-on-default-background);\n",
       "}\n",
       "\n",
       "/* On hover, darken the color of the background */\n",
       "#sk-container-id-5 div.sk-label:hover label.sk-toggleable__label {\n",
       "  color: var(--sklearn-color-text);\n",
       "  background-color: var(--sklearn-color-unfitted-level-2);\n",
       "}\n",
       "\n",
       "/* Label box, darken color on hover, fitted */\n",
       "#sk-container-id-5 div.sk-label.fitted:hover label.sk-toggleable__label.fitted {\n",
       "  color: var(--sklearn-color-text);\n",
       "  background-color: var(--sklearn-color-fitted-level-2);\n",
       "}\n",
       "\n",
       "/* Estimator label */\n",
       "\n",
       "#sk-container-id-5 div.sk-label label {\n",
       "  font-family: monospace;\n",
       "  font-weight: bold;\n",
       "  display: inline-block;\n",
       "  line-height: 1.2em;\n",
       "}\n",
       "\n",
       "#sk-container-id-5 div.sk-label-container {\n",
       "  text-align: center;\n",
       "}\n",
       "\n",
       "/* Estimator-specific */\n",
       "#sk-container-id-5 div.sk-estimator {\n",
       "  font-family: monospace;\n",
       "  border: 1px dotted var(--sklearn-color-border-box);\n",
       "  border-radius: 0.25em;\n",
       "  box-sizing: border-box;\n",
       "  margin-bottom: 0.5em;\n",
       "  /* unfitted */\n",
       "  background-color: var(--sklearn-color-unfitted-level-0);\n",
       "}\n",
       "\n",
       "#sk-container-id-5 div.sk-estimator.fitted {\n",
       "  /* fitted */\n",
       "  background-color: var(--sklearn-color-fitted-level-0);\n",
       "}\n",
       "\n",
       "/* on hover */\n",
       "#sk-container-id-5 div.sk-estimator:hover {\n",
       "  /* unfitted */\n",
       "  background-color: var(--sklearn-color-unfitted-level-2);\n",
       "}\n",
       "\n",
       "#sk-container-id-5 div.sk-estimator.fitted:hover {\n",
       "  /* fitted */\n",
       "  background-color: var(--sklearn-color-fitted-level-2);\n",
       "}\n",
       "\n",
       "/* Specification for estimator info (e.g. \"i\" and \"?\") */\n",
       "\n",
       "/* Common style for \"i\" and \"?\" */\n",
       "\n",
       ".sk-estimator-doc-link,\n",
       "a:link.sk-estimator-doc-link,\n",
       "a:visited.sk-estimator-doc-link {\n",
       "  float: right;\n",
       "  font-size: smaller;\n",
       "  line-height: 1em;\n",
       "  font-family: monospace;\n",
       "  background-color: var(--sklearn-color-background);\n",
       "  border-radius: 1em;\n",
       "  height: 1em;\n",
       "  width: 1em;\n",
       "  text-decoration: none !important;\n",
       "  margin-left: 1ex;\n",
       "  /* unfitted */\n",
       "  border: var(--sklearn-color-unfitted-level-1) 1pt solid;\n",
       "  color: var(--sklearn-color-unfitted-level-1);\n",
       "}\n",
       "\n",
       ".sk-estimator-doc-link.fitted,\n",
       "a:link.sk-estimator-doc-link.fitted,\n",
       "a:visited.sk-estimator-doc-link.fitted {\n",
       "  /* fitted */\n",
       "  border: var(--sklearn-color-fitted-level-1) 1pt solid;\n",
       "  color: var(--sklearn-color-fitted-level-1);\n",
       "}\n",
       "\n",
       "/* On hover */\n",
       "div.sk-estimator:hover .sk-estimator-doc-link:hover,\n",
       ".sk-estimator-doc-link:hover,\n",
       "div.sk-label-container:hover .sk-estimator-doc-link:hover,\n",
       ".sk-estimator-doc-link:hover {\n",
       "  /* unfitted */\n",
       "  background-color: var(--sklearn-color-unfitted-level-3);\n",
       "  color: var(--sklearn-color-background);\n",
       "  text-decoration: none;\n",
       "}\n",
       "\n",
       "div.sk-estimator.fitted:hover .sk-estimator-doc-link.fitted:hover,\n",
       ".sk-estimator-doc-link.fitted:hover,\n",
       "div.sk-label-container:hover .sk-estimator-doc-link.fitted:hover,\n",
       ".sk-estimator-doc-link.fitted:hover {\n",
       "  /* fitted */\n",
       "  background-color: var(--sklearn-color-fitted-level-3);\n",
       "  color: var(--sklearn-color-background);\n",
       "  text-decoration: none;\n",
       "}\n",
       "\n",
       "/* Span, style for the box shown on hovering the info icon */\n",
       ".sk-estimator-doc-link span {\n",
       "  display: none;\n",
       "  z-index: 9999;\n",
       "  position: relative;\n",
       "  font-weight: normal;\n",
       "  right: .2ex;\n",
       "  padding: .5ex;\n",
       "  margin: .5ex;\n",
       "  width: min-content;\n",
       "  min-width: 20ex;\n",
       "  max-width: 50ex;\n",
       "  color: var(--sklearn-color-text);\n",
       "  box-shadow: 2pt 2pt 4pt #999;\n",
       "  /* unfitted */\n",
       "  background: var(--sklearn-color-unfitted-level-0);\n",
       "  border: .5pt solid var(--sklearn-color-unfitted-level-3);\n",
       "}\n",
       "\n",
       ".sk-estimator-doc-link.fitted span {\n",
       "  /* fitted */\n",
       "  background: var(--sklearn-color-fitted-level-0);\n",
       "  border: var(--sklearn-color-fitted-level-3);\n",
       "}\n",
       "\n",
       ".sk-estimator-doc-link:hover span {\n",
       "  display: block;\n",
       "}\n",
       "\n",
       "/* \"?\"-specific style due to the `<a>` HTML tag */\n",
       "\n",
       "#sk-container-id-5 a.estimator_doc_link {\n",
       "  float: right;\n",
       "  font-size: 1rem;\n",
       "  line-height: 1em;\n",
       "  font-family: monospace;\n",
       "  background-color: var(--sklearn-color-background);\n",
       "  border-radius: 1rem;\n",
       "  height: 1rem;\n",
       "  width: 1rem;\n",
       "  text-decoration: none;\n",
       "  /* unfitted */\n",
       "  color: var(--sklearn-color-unfitted-level-1);\n",
       "  border: var(--sklearn-color-unfitted-level-1) 1pt solid;\n",
       "}\n",
       "\n",
       "#sk-container-id-5 a.estimator_doc_link.fitted {\n",
       "  /* fitted */\n",
       "  border: var(--sklearn-color-fitted-level-1) 1pt solid;\n",
       "  color: var(--sklearn-color-fitted-level-1);\n",
       "}\n",
       "\n",
       "/* On hover */\n",
       "#sk-container-id-5 a.estimator_doc_link:hover {\n",
       "  /* unfitted */\n",
       "  background-color: var(--sklearn-color-unfitted-level-3);\n",
       "  color: var(--sklearn-color-background);\n",
       "  text-decoration: none;\n",
       "}\n",
       "\n",
       "#sk-container-id-5 a.estimator_doc_link.fitted:hover {\n",
       "  /* fitted */\n",
       "  background-color: var(--sklearn-color-fitted-level-3);\n",
       "}\n",
       "</style><div id=\"sk-container-id-5\" class=\"sk-top-container\"><div class=\"sk-text-repr-fallback\"><pre>LogisticRegression(multi_class=&#x27;multinomial&#x27;)</pre><b>In a Jupyter environment, please rerun this cell to show the HTML representation or trust the notebook. <br />On GitHub, the HTML representation is unable to render, please try loading this page with nbviewer.org.</b></div><div class=\"sk-container\" hidden><div class=\"sk-item\"><div class=\"sk-estimator fitted sk-toggleable\"><input class=\"sk-toggleable__control sk-hidden--visually\" id=\"sk-estimator-id-5\" type=\"checkbox\" checked><label for=\"sk-estimator-id-5\" class=\"sk-toggleable__label fitted sk-toggleable__label-arrow fitted\">&nbsp;&nbsp;LogisticRegression<a class=\"sk-estimator-doc-link fitted\" rel=\"noreferrer\" target=\"_blank\" href=\"https://scikit-learn.org/1.4/modules/generated/sklearn.linear_model.LogisticRegression.html\">?<span>Documentation for LogisticRegression</span></a><span class=\"sk-estimator-doc-link fitted\">i<span>Fitted</span></span></label><div class=\"sk-toggleable__content fitted\"><pre>LogisticRegression(multi_class=&#x27;multinomial&#x27;)</pre></div> </div></div></div></div>"
      ],
      "text/plain": [
       "LogisticRegression(multi_class='multinomial')"
      ]
     },
     "execution_count": 1302,
     "metadata": {},
     "output_type": "execute_result"
    }
   ],
   "source": [
    "clf.fit(X_train , y_train)"
   ]
  },
  {
   "cell_type": "code",
   "execution_count": 1303,
   "id": "e132b573-5c58-401f-96de-1211d3b37bf1",
   "metadata": {},
   "outputs": [],
   "source": [
    "y_pred = clf.predict(X_test) ## doing prediction on X-Test data"
   ]
  },
  {
   "cell_type": "code",
   "execution_count": 1304,
   "id": "ec639c4a-e139-410f-91b0-3763c7806995",
   "metadata": {},
   "outputs": [
    {
     "data": {
      "text/plain": [
       "array([1, 1, 1, ..., 1, 1, 1], dtype=int64)"
      ]
     },
     "execution_count": 1304,
     "metadata": {},
     "output_type": "execute_result"
    }
   ],
   "source": [
    "y_pred"
   ]
  },
  {
   "cell_type": "code",
   "execution_count": 1305,
   "id": "af7093ae-01d7-4931-9c21-e104463be54f",
   "metadata": {},
   "outputs": [],
   "source": [
    "from collections import Counter"
   ]
  },
  {
   "cell_type": "code",
   "execution_count": 1306,
   "id": "3e5cf83c-0ade-4677-8060-2681d5087da9",
   "metadata": {},
   "outputs": [
    {
     "data": {
      "text/plain": [
       "Counter({1: 16864, 2: 1732, 0: 1404})"
      ]
     },
     "execution_count": 1306,
     "metadata": {},
     "output_type": "execute_result"
    }
   ],
   "source": [
    "Counter(y_pred)"
   ]
  },
  {
   "cell_type": "code",
   "execution_count": 1307,
   "id": "1331e5d0-4f37-4fe2-8020-ed0f8b2156cc",
   "metadata": {},
   "outputs": [],
   "source": [
    "# 1462 with weak pwd, 1763 with strong and 16775 with medium\n"
   ]
  },
  {
   "cell_type": "code",
   "execution_count": 1308,
   "id": "8811617e-0c40-4dcc-962a-b758211769dd",
   "metadata": {},
   "outputs": [],
   "source": [
    "#We have done model building"
   ]
  },
  {
   "cell_type": "code",
   "execution_count": 1309,
   "id": "ee3de69b-de5a-4009-9da1-d14641e8ccaa",
   "metadata": {},
   "outputs": [],
   "source": [
    "#Dimenstions needed for clf= (1, 101)--- out of 101, 99 are from TF-IDF and 2 are the columns which we have added, lowercase and length\n",
    "# as Logistic reg. model'clf' was trained on 101 features [99 from TF-IDF + 2 features from (total_length+lower_case_freq)]\n",
    "# hence we need to convert any input(password) into (1,101) so that my model will accept this as Input .."
   ]
  },
  {
   "cell_type": "code",
   "execution_count": 1310,
   "id": "370109c2-f80c-4827-b3cf-e248053523c8",
   "metadata": {},
   "outputs": [],
   "source": [
    "password = \"Aryan@0312\""
   ]
  },
  {
   "cell_type": "code",
   "execution_count": 1311,
   "id": "f553f909-5be6-48f2-aea9-456af38ee528",
   "metadata": {},
   "outputs": [],
   "source": [
    "sample_array = np.array([password])"
   ]
  },
  {
   "cell_type": "code",
   "execution_count": 1312,
   "id": "0d5d0b8d-240b-40bc-962b-38da3af0cbda",
   "metadata": {},
   "outputs": [],
   "source": [
    "sample_matrix = vectorizer.transform(sample_array) #vector representation of above array"
   ]
  },
  {
   "cell_type": "code",
   "execution_count": 1313,
   "id": "80e367e7-8b69-4847-967d-55329eab7f7d",
   "metadata": {},
   "outputs": [
    {
     "data": {
      "text/plain": [
       "array([[0.        , 0.        , 0.        , 0.        , 0.        ,\n",
       "        0.        , 0.        , 0.        , 0.        , 0.        ,\n",
       "        0.        , 0.        , 0.        , 0.        , 0.        ,\n",
       "        0.        , 0.        , 0.        , 0.        , 0.        ,\n",
       "        0.25385645, 0.19475402, 0.22532097, 0.25236046, 0.        ,\n",
       "        0.        , 0.        , 0.        , 0.        , 0.        ,\n",
       "        0.        , 0.        , 0.        , 0.        , 0.        ,\n",
       "        0.66175488, 0.        , 0.        , 0.        , 0.        ,\n",
       "        0.        , 0.        , 0.37511023, 0.        , 0.        ,\n",
       "        0.        , 0.        , 0.        , 0.        , 0.        ,\n",
       "        0.        , 0.        , 0.        , 0.        , 0.        ,\n",
       "        0.24110902, 0.        , 0.        , 0.        , 0.24983594,\n",
       "        0.        , 0.        , 0.        , 0.        , 0.        ,\n",
       "        0.        , 0.28981661, 0.        , 0.        , 0.        ,\n",
       "        0.        , 0.        , 0.        , 0.        , 0.        ,\n",
       "        0.        , 0.        , 0.        , 0.        , 0.        ,\n",
       "        0.        , 0.        , 0.        , 0.        , 0.        ,\n",
       "        0.        , 0.        , 0.        , 0.        , 0.        ,\n",
       "        0.        , 0.        , 0.        , 0.        , 0.        ,\n",
       "        0.        , 0.        , 0.        , 0.        ]])"
      ]
     },
     "execution_count": 1313,
     "metadata": {},
     "output_type": "execute_result"
    }
   ],
   "source": [
    "sample_matrix.toarray()"
   ]
  },
  {
   "cell_type": "code",
   "execution_count": 1314,
   "id": "00a319a0-ccb6-47c8-a33e-695817a8bfed",
   "metadata": {},
   "outputs": [
    {
     "data": {
      "text/plain": [
       "(1, 99)"
      ]
     },
     "execution_count": 1314,
     "metadata": {},
     "output_type": "execute_result"
    }
   ],
   "source": [
    "sample_matrix.toarray().shape\n"
   ]
  },
  {
   "cell_type": "code",
   "execution_count": 1315,
   "id": "00401a22-aac4-4c07-a4d4-ed17a21ced26",
   "metadata": {},
   "outputs": [],
   "source": [
    "# Array dimension is (1,99) so now we need to make it (1,101) so that my model will accept it as input\n",
    "# We need to add length_of_password and total_lowercase_chars in password as they were important"
   ]
  },
  {
   "cell_type": "code",
   "execution_count": 1316,
   "id": "b4d0d664-7df1-48f3-b1ea-3559485c7d3e",
   "metadata": {},
   "outputs": [],
   "source": [
    "l1= len(password)"
   ]
  },
  {
   "cell_type": "code",
   "execution_count": 1317,
   "id": "b127bedc-ab1f-463f-b9ba-9520c8647dfd",
   "metadata": {},
   "outputs": [
    {
     "data": {
      "text/plain": [
       "4"
      ]
     },
     "execution_count": 1317,
     "metadata": {},
     "output_type": "execute_result"
    }
   ],
   "source": [
    "\n",
    "len([char for char in password if char.islower()])"
   ]
  },
  {
   "cell_type": "code",
   "execution_count": 1318,
   "id": "79218167-79f4-418e-b2fd-dafe9bc40683",
   "metadata": {},
   "outputs": [],
   "source": [
    "lower_cas_fre= len([char for char in password if char.islower()])/len(password)"
   ]
  },
  {
   "cell_type": "code",
   "execution_count": 1319,
   "id": "9558f0ec-29cb-4442-9559-69b767e58c93",
   "metadata": {
    "scrolled": true
   },
   "outputs": [
    {
     "data": {
      "text/plain": [
       "array([ 0.        ,  0.        ,  0.        ,  0.        ,  0.        ,\n",
       "        0.        ,  0.        ,  0.        ,  0.        ,  0.        ,\n",
       "        0.        ,  0.        ,  0.        ,  0.        ,  0.        ,\n",
       "        0.        ,  0.        ,  0.        ,  0.        ,  0.        ,\n",
       "        0.25385645,  0.19475402,  0.22532097,  0.25236046,  0.        ,\n",
       "        0.        ,  0.        ,  0.        ,  0.        ,  0.        ,\n",
       "        0.        ,  0.        ,  0.        ,  0.        ,  0.        ,\n",
       "        0.66175488,  0.        ,  0.        ,  0.        ,  0.        ,\n",
       "        0.        ,  0.        ,  0.37511023,  0.        ,  0.        ,\n",
       "        0.        ,  0.        ,  0.        ,  0.        ,  0.        ,\n",
       "        0.        ,  0.        ,  0.        ,  0.        ,  0.        ,\n",
       "        0.24110902,  0.        ,  0.        ,  0.        ,  0.24983594,\n",
       "        0.        ,  0.        ,  0.        ,  0.        ,  0.        ,\n",
       "        0.        ,  0.28981661,  0.        ,  0.        ,  0.        ,\n",
       "        0.        ,  0.        ,  0.        ,  0.        ,  0.        ,\n",
       "        0.        ,  0.        ,  0.        ,  0.        ,  0.        ,\n",
       "        0.        ,  0.        ,  0.        ,  0.        ,  0.        ,\n",
       "        0.        ,  0.        ,  0.        ,  0.        ,  0.        ,\n",
       "        0.        ,  0.        ,  0.        ,  0.        ,  0.        ,\n",
       "        0.        ,  0.        ,  0.        ,  0.        , 10.        ,\n",
       "        0.4       ])"
      ]
     },
     "execution_count": 1319,
     "metadata": {},
     "output_type": "execute_result"
    }
   ],
   "source": [
    "np.append(sample_matrix.toarray() , (l1, lower_cas_fre))"
   ]
  },
  {
   "cell_type": "code",
   "execution_count": 1320,
   "id": "b321c8b2-cc13-4858-86c9-5724f6d5eec4",
   "metadata": {},
   "outputs": [
    {
     "data": {
      "text/plain": [
       "(101,)"
      ]
     },
     "execution_count": 1320,
     "metadata": {},
     "output_type": "execute_result"
    }
   ],
   "source": [
    "np.append(sample_matrix.toarray() , (l1, lower_cas_fre)).shape"
   ]
  },
  {
   "cell_type": "code",
   "execution_count": 1321,
   "id": "d3f9bdae-020a-40b4-ab2e-5bf6a92f6c62",
   "metadata": {},
   "outputs": [
    {
     "data": {
      "text/plain": [
       "array([[0.        , 0.        , 0.        , 0.        , 0.        ,\n",
       "        0.        , 0.        , 0.        , 0.        , 0.        ,\n",
       "        0.        , 0.        , 0.        , 0.        , 0.        ,\n",
       "        0.        , 0.        , 0.        , 0.        , 0.        ,\n",
       "        0.25385645, 0.19475402, 0.22532097, 0.25236046, 0.        ,\n",
       "        0.        , 0.        , 0.        , 0.        , 0.        ,\n",
       "        0.        , 0.        , 0.        , 0.        , 0.        ,\n",
       "        0.66175488, 0.        , 0.        , 0.        , 0.        ,\n",
       "        0.        , 0.        , 0.37511023, 0.        , 0.        ,\n",
       "        0.        , 0.        , 0.        , 0.        , 0.        ,\n",
       "        0.        , 0.        , 0.        , 0.        , 0.        ,\n",
       "        0.24110902, 0.        , 0.        , 0.        , 0.24983594,\n",
       "        0.        , 0.        , 0.        , 0.        , 0.        ,\n",
       "        0.        , 0.28981661, 0.        , 0.        , 0.        ,\n",
       "        0.        , 0.        , 0.        , 0.        , 0.        ,\n",
       "        0.        , 0.        , 0.        , 0.        , 0.        ,\n",
       "        0.        , 0.        , 0.        , 0.        , 0.        ,\n",
       "        0.        , 0.        , 0.        , 0.        , 0.        ,\n",
       "        0.        , 0.        , 0.        , 0.        , 0.        ,\n",
       "        0.        , 0.        , 0.        , 0.        , 9.        ,\n",
       "        0.444     ]])"
      ]
     },
     "execution_count": 1321,
     "metadata": {},
     "output_type": "execute_result"
    }
   ],
   "source": [
    "np.append(sample_matrix.toarray() , (9,0.444)).reshape(1,101) \n",
    "#our required dimensions were (1, 101) so we had to reshape it\n"
   ]
  },
  {
   "cell_type": "code",
   "execution_count": 1322,
   "id": "8fe3b155-038f-4f0a-a108-f8f81ee0ba86",
   "metadata": {},
   "outputs": [],
   "source": [
    "new_matrix= np.append(sample_matrix.toarray() , (9,0.444)).reshape(1,101) "
   ]
  },
  {
   "cell_type": "code",
   "execution_count": 1323,
   "id": "f35bd5e9-785b-4d01-8137-44e1e584f9d2",
   "metadata": {},
   "outputs": [
    {
     "data": {
      "text/plain": [
       "array([2], dtype=int64)"
      ]
     },
     "execution_count": 1323,
     "metadata": {},
     "output_type": "execute_result"
    }
   ],
   "source": [
    "clf.predict(new_matrix)"
   ]
  },
  {
   "cell_type": "code",
   "execution_count": 1324,
   "id": "cac18e1b-74d2-459a-a4e5-6fa5df8ece89",
   "metadata": {},
   "outputs": [],
   "source": [
    "#2 means it is a strong password"
   ]
  },
  {
   "cell_type": "code",
   "execution_count": 1325,
   "id": "06a6dd94-f39b-4924-b56b-00ff6987ef25",
   "metadata": {},
   "outputs": [],
   "source": [
    "#lets automate this by a function--"
   ]
  },
  {
   "cell_type": "code",
   "execution_count": 1326,
   "id": "5fc31944-26ab-4293-91cd-5d2edf48e16e",
   "metadata": {},
   "outputs": [],
   "source": [
    "def predict():\n",
    "    password = input(\"Enter a password : \")\n",
    "    sample_array = np.array([password])\n",
    "    sample_matrix = vectorizer.transform(sample_array)\n",
    "    \n",
    "    length_pass = len(password)\n",
    "    length_normalised_lowercase = len([char for char in password if char.islower()])/len(password)\n",
    "    \n",
    "    new_matrix2 = np.append(sample_matrix.toarray() , (length_pass , length_normalised_lowercase)).reshape(1,101)\n",
    "    result = clf.predict(new_matrix2)\n",
    "    \n",
    "    if result == 0 :\n",
    "        return \"Password is weak\"\n",
    "    elif result == 1 :\n",
    "        return \"Password is normal\"\n",
    "    else:\n",
    "        return \"password is strong\""
   ]
  },
  {
   "cell_type": "code",
   "execution_count": 1327,
   "id": "1c9a5acb-0161-47d8-95ec-bbe76cc88137",
   "metadata": {},
   "outputs": [
    {
     "name": "stdin",
     "output_type": "stream",
     "text": [
      "Enter a password :  SkitJaipur\n"
     ]
    },
    {
     "data": {
      "text/plain": [
       "'Password is normal'"
      ]
     },
     "execution_count": 1327,
     "metadata": {},
     "output_type": "execute_result"
    }
   ],
   "source": [
    "predict()"
   ]
  },
  {
   "cell_type": "code",
   "execution_count": 1328,
   "id": "66937a45-c31b-4621-8416-de71c3005433",
   "metadata": {},
   "outputs": [],
   "source": [
    "from sklearn.metrics import confusion_matrix ,  accuracy_score , classification_report"
   ]
  },
  {
   "cell_type": "code",
   "execution_count": 1329,
   "id": "556ebdf3-d771-4885-bbb4-053eae6a3e7d",
   "metadata": {},
   "outputs": [
    {
     "data": {
      "text/plain": [
       "0.80385"
      ]
     },
     "execution_count": 1329,
     "metadata": {},
     "output_type": "execute_result"
    }
   ],
   "source": [
    "accuracy_score(y_test , y_pred)"
   ]
  },
  {
   "cell_type": "code",
   "execution_count": 1330,
   "id": "31af378e-6772-47f5-9e9a-334c998c1006",
   "metadata": {},
   "outputs": [
    {
     "data": {
      "text/plain": [
       "array([[  741,  2008,     0],\n",
       "       [  591, 13927,   323],\n",
       "       [   72,   929,  1409]], dtype=int64)"
      ]
     },
     "execution_count": 1330,
     "metadata": {},
     "output_type": "execute_result"
    }
   ],
   "source": [
    "confusion_matrix(y_test , y_pred)"
   ]
  },
  {
   "cell_type": "code",
   "execution_count": 1471,
   "id": "08c80428-b24e-4ccb-a57b-a2fb476161ee",
   "metadata": {},
   "outputs": [
    {
     "data": {
      "text/plain": [
       "'\\nfor 741= password is 0 and it matches the same\\nfor 13927= password is 1 and it matches the same\\nfor 1409= passowrd is 2 and it matches the same\\ntotal 16k accurate while total data was 20k so our accuracy is 80%\\n'"
      ]
     },
     "execution_count": 1471,
     "metadata": {},
     "output_type": "execute_result"
    }
   ],
   "source": [
    "#Diagonal matrix element has the elements on which our model is accurate\n",
    "\"\"\"\n",
    "for 741= password is 0 and it matches the same\n",
    "for 13927= password is 1 and it matches the same\n",
    "for 1409= passowrd is 2 and it matches the same\n",
    "total 16k accurate while total data was 20k so our accuracy is 80%\n",
    "\"\"\""
   ]
  },
  {
   "cell_type": "code",
   "execution_count": 1332,
   "id": "80e95f20-6ec2-4320-8492-21f5d240676c",
   "metadata": {},
   "outputs": [
    {
     "name": "stdout",
     "output_type": "stream",
     "text": [
      "              precision    recall  f1-score   support\n",
      "\n",
      "           0       0.53      0.27      0.36      2749\n",
      "           1       0.83      0.94      0.88     14841\n",
      "           2       0.81      0.58      0.68      2410\n",
      "\n",
      "    accuracy                           0.80     20000\n",
      "   macro avg       0.72      0.60      0.64     20000\n",
      "weighted avg       0.78      0.80      0.78     20000\n",
      "\n"
     ]
    }
   ],
   "source": [
    "print(classification_report(y_test , y_pred))"
   ]
  },
  {
   "cell_type": "code",
   "execution_count": null,
   "id": "96590a7c-4bb9-40eb-bb5a-676d2e235d2f",
   "metadata": {},
   "outputs": [],
   "source": []
  }
 ],
 "metadata": {
  "kernelspec": {
   "display_name": "Python 3 (ipykernel)",
   "language": "python",
   "name": "python3"
  },
  "language_info": {
   "codemirror_mode": {
    "name": "ipython",
    "version": 3
   },
   "file_extension": ".py",
   "mimetype": "text/x-python",
   "name": "python",
   "nbconvert_exporter": "python",
   "pygments_lexer": "ipython3",
   "version": "3.12.4"
  }
 },
 "nbformat": 4,
 "nbformat_minor": 5
}
